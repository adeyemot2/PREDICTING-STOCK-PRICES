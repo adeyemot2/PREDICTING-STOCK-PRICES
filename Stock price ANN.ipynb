{
 "cells": [
  {
   "cell_type": "code",
   "execution_count": null,
   "metadata": {
    "colab": {
     "base_uri": "https://localhost:8080/"
    },
    "executionInfo": {
     "elapsed": 47010,
     "status": "ok",
     "timestamp": 1677789515771,
     "user": {
      "displayName": "Adekunjo Moshood",
      "userId": "07268946589538442356"
     },
     "user_tz": -60
    },
    "id": "6rp_vunS7D-z",
    "outputId": "bcd4396b-df3c-4061-8bb8-74f5aa6c2dd7"
   },
   "outputs": [
    {
     "name": "stdout",
     "output_type": "stream",
     "text": [
      "Mounted at /content/drive\n"
     ]
    }
   ],
   "source": [
    "from google.colab import drive\n",
    "drive.mount('/content/drive')"
   ]
  },
  {
   "cell_type": "code",
   "execution_count": null,
   "metadata": {
    "id": "zN_MzYWkCnR_"
   },
   "outputs": [],
   "source": [
    "import numpy as np \n",
    "import pandas as pd \n",
    "import seaborn as \n",
    "import matplotlib.pyplot as plt\n",
    "import plotly.express as px\n",
    "from tensorflow.keras.layers import LSTM, GRU, Conv1D, Bidirectional, MaxPooling1D, Flatten\n",
    "from tensorflow.keras.models import Sequential\n",
    "from tensorflow.keras.layers import Dense, Activation, Dropout, TimeDistributed, RepeatVector\n",
    "from keras.optimizers import Adam , SGD , RMSprop\n",
    "from sklearn.metrics import mean_squared_error"
   ]
  },
  {
   "cell_type": "code",
   "execution_count": null,
   "metadata": {
    "id": "WAW8KOmgAXN8"
   },
   "outputs": [],
   "source": [
    "path = \"/content/drive/My Drive/Colab Notebooks/NFLX.csv\"\n",
    "df = pd.read_csv(path)"
   ]
  },
  {
   "cell_type": "code",
   "execution_count": null,
   "metadata": {
    "colab": {
     "base_uri": "https://localhost:8080/",
     "height": 206
    },
    "executionInfo": {
     "elapsed": 30,
     "status": "ok",
     "timestamp": 1677789528326,
     "user": {
      "displayName": "Adekunjo Moshood",
      "userId": "07268946589538442356"
     },
     "user_tz": -60
    },
    "id": "HQ1xN8utCtmL",
    "outputId": "83c70f96-2ca9-45dd-fcbb-4de9e9f98e6d"
   },
   "outputs": [
    {
     "data": {
      "text/html": [
       "\n",
       "  <div id=\"df-b784cc77-3ecc-44b2-83cf-e16c8077e005\">\n",
       "    <div class=\"colab-df-container\">\n",
       "      <div>\n",
       "<style scoped>\n",
       "    .dataframe tbody tr th:only-of-type {\n",
       "        vertical-align: middle;\n",
       "    }\n",
       "\n",
       "    .dataframe tbody tr th {\n",
       "        vertical-align: top;\n",
       "    }\n",
       "\n",
       "    .dataframe thead th {\n",
       "        text-align: right;\n",
       "    }\n",
       "</style>\n",
       "<table border=\"1\" class=\"dataframe\">\n",
       "  <thead>\n",
       "    <tr style=\"text-align: right;\">\n",
       "      <th></th>\n",
       "      <th>Date</th>\n",
       "      <th>Open</th>\n",
       "      <th>High</th>\n",
       "      <th>Low</th>\n",
       "      <th>Close</th>\n",
       "      <th>Adj Close</th>\n",
       "      <th>Volume</th>\n",
       "    </tr>\n",
       "  </thead>\n",
       "  <tbody>\n",
       "    <tr>\n",
       "      <th>0</th>\n",
       "      <td>2018-02-05</td>\n",
       "      <td>262.000000</td>\n",
       "      <td>267.899994</td>\n",
       "      <td>250.029999</td>\n",
       "      <td>254.259995</td>\n",
       "      <td>254.259995</td>\n",
       "      <td>11896100</td>\n",
       "    </tr>\n",
       "    <tr>\n",
       "      <th>1</th>\n",
       "      <td>2018-02-06</td>\n",
       "      <td>247.699997</td>\n",
       "      <td>266.700012</td>\n",
       "      <td>245.000000</td>\n",
       "      <td>265.720001</td>\n",
       "      <td>265.720001</td>\n",
       "      <td>12595800</td>\n",
       "    </tr>\n",
       "    <tr>\n",
       "      <th>2</th>\n",
       "      <td>2018-02-07</td>\n",
       "      <td>266.579987</td>\n",
       "      <td>272.450012</td>\n",
       "      <td>264.329987</td>\n",
       "      <td>264.559998</td>\n",
       "      <td>264.559998</td>\n",
       "      <td>8981500</td>\n",
       "    </tr>\n",
       "    <tr>\n",
       "      <th>3</th>\n",
       "      <td>2018-02-08</td>\n",
       "      <td>267.079987</td>\n",
       "      <td>267.619995</td>\n",
       "      <td>250.000000</td>\n",
       "      <td>250.100006</td>\n",
       "      <td>250.100006</td>\n",
       "      <td>9306700</td>\n",
       "    </tr>\n",
       "    <tr>\n",
       "      <th>4</th>\n",
       "      <td>2018-02-09</td>\n",
       "      <td>253.850006</td>\n",
       "      <td>255.800003</td>\n",
       "      <td>236.110001</td>\n",
       "      <td>249.470001</td>\n",
       "      <td>249.470001</td>\n",
       "      <td>16906900</td>\n",
       "    </tr>\n",
       "  </tbody>\n",
       "</table>\n",
       "</div>\n",
       "      <button class=\"colab-df-convert\" onclick=\"convertToInteractive('df-b784cc77-3ecc-44b2-83cf-e16c8077e005')\"\n",
       "              title=\"Convert this dataframe to an interactive table.\"\n",
       "              style=\"display:none;\">\n",
       "        \n",
       "  <svg xmlns=\"http://www.w3.org/2000/svg\" height=\"24px\"viewBox=\"0 0 24 24\"\n",
       "       width=\"24px\">\n",
       "    <path d=\"M0 0h24v24H0V0z\" fill=\"none\"/>\n",
       "    <path d=\"M18.56 5.44l.94 2.06.94-2.06 2.06-.94-2.06-.94-.94-2.06-.94 2.06-2.06.94zm-11 1L8.5 8.5l.94-2.06 2.06-.94-2.06-.94L8.5 2.5l-.94 2.06-2.06.94zm10 10l.94 2.06.94-2.06 2.06-.94-2.06-.94-.94-2.06-.94 2.06-2.06.94z\"/><path d=\"M17.41 7.96l-1.37-1.37c-.4-.4-.92-.59-1.43-.59-.52 0-1.04.2-1.43.59L10.3 9.45l-7.72 7.72c-.78.78-.78 2.05 0 2.83L4 21.41c.39.39.9.59 1.41.59.51 0 1.02-.2 1.41-.59l7.78-7.78 2.81-2.81c.8-.78.8-2.07 0-2.86zM5.41 20L4 18.59l7.72-7.72 1.47 1.35L5.41 20z\"/>\n",
       "  </svg>\n",
       "      </button>\n",
       "      \n",
       "  <style>\n",
       "    .colab-df-container {\n",
       "      display:flex;\n",
       "      flex-wrap:wrap;\n",
       "      gap: 12px;\n",
       "    }\n",
       "\n",
       "    .colab-df-convert {\n",
       "      background-color: #E8F0FE;\n",
       "      border: none;\n",
       "      border-radius: 50%;\n",
       "      cursor: pointer;\n",
       "      display: none;\n",
       "      fill: #1967D2;\n",
       "      height: 32px;\n",
       "      padding: 0 0 0 0;\n",
       "      width: 32px;\n",
       "    }\n",
       "\n",
       "    .colab-df-convert:hover {\n",
       "      background-color: #E2EBFA;\n",
       "      box-shadow: 0px 1px 2px rgba(60, 64, 67, 0.3), 0px 1px 3px 1px rgba(60, 64, 67, 0.15);\n",
       "      fill: #174EA6;\n",
       "    }\n",
       "\n",
       "    [theme=dark] .colab-df-convert {\n",
       "      background-color: #3B4455;\n",
       "      fill: #D2E3FC;\n",
       "    }\n",
       "\n",
       "    [theme=dark] .colab-df-convert:hover {\n",
       "      background-color: #434B5C;\n",
       "      box-shadow: 0px 1px 3px 1px rgba(0, 0, 0, 0.15);\n",
       "      filter: drop-shadow(0px 1px 2px rgba(0, 0, 0, 0.3));\n",
       "      fill: #FFFFFF;\n",
       "    }\n",
       "  </style>\n",
       "\n",
       "      <script>\n",
       "        const buttonEl =\n",
       "          document.querySelector('#df-b784cc77-3ecc-44b2-83cf-e16c8077e005 button.colab-df-convert');\n",
       "        buttonEl.style.display =\n",
       "          google.colab.kernel.accessAllowed ? 'block' : 'none';\n",
       "\n",
       "        async function convertToInteractive(key) {\n",
       "          const element = document.querySelector('#df-b784cc77-3ecc-44b2-83cf-e16c8077e005');\n",
       "          const dataTable =\n",
       "            await google.colab.kernel.invokeFunction('convertToInteractive',\n",
       "                                                     [key], {});\n",
       "          if (!dataTable) return;\n",
       "\n",
       "          const docLinkHtml = 'Like what you see? Visit the ' +\n",
       "            '<a target=\"_blank\" href=https://colab.research.google.com/notebooks/data_table.ipynb>data table notebook</a>'\n",
       "            + ' to learn more about interactive tables.';\n",
       "          element.innerHTML = '';\n",
       "          dataTable['output_type'] = 'display_data';\n",
       "          await google.colab.output.renderOutput(dataTable, element);\n",
       "          const docLink = document.createElement('div');\n",
       "          docLink.innerHTML = docLinkHtml;\n",
       "          element.appendChild(docLink);\n",
       "        }\n",
       "      </script>\n",
       "    </div>\n",
       "  </div>\n",
       "  "
      ],
      "text/plain": [
       "         Date        Open        High         Low       Close   Adj Close  \\\n",
       "0  2018-02-05  262.000000  267.899994  250.029999  254.259995  254.259995   \n",
       "1  2018-02-06  247.699997  266.700012  245.000000  265.720001  265.720001   \n",
       "2  2018-02-07  266.579987  272.450012  264.329987  264.559998  264.559998   \n",
       "3  2018-02-08  267.079987  267.619995  250.000000  250.100006  250.100006   \n",
       "4  2018-02-09  253.850006  255.800003  236.110001  249.470001  249.470001   \n",
       "\n",
       "     Volume  \n",
       "0  11896100  \n",
       "1  12595800  \n",
       "2   8981500  \n",
       "3   9306700  \n",
       "4  16906900  "
      ]
     },
     "execution_count": 4,
     "metadata": {},
     "output_type": "execute_result"
    }
   ],
   "source": [
    "df.head()"
   ]
  },
  {
   "cell_type": "code",
   "execution_count": null,
   "metadata": {
    "colab": {
     "base_uri": "https://localhost:8080/",
     "height": 206
    },
    "executionInfo": {
     "elapsed": 26,
     "status": "ok",
     "timestamp": 1677789528327,
     "user": {
      "displayName": "Adekunjo Moshood",
      "userId": "07268946589538442356"
     },
     "user_tz": -60
    },
    "id": "imGZM46dC1Ht",
    "outputId": "208c2175-603a-4f62-b294-16ce62aa2f33"
   },
   "outputs": [
    {
     "data": {
      "text/html": [
       "\n",
       "  <div id=\"df-73fb1b84-efe2-48c8-865f-7dddb1ed8c8a\">\n",
       "    <div class=\"colab-df-container\">\n",
       "      <div>\n",
       "<style scoped>\n",
       "    .dataframe tbody tr th:only-of-type {\n",
       "        vertical-align: middle;\n",
       "    }\n",
       "\n",
       "    .dataframe tbody tr th {\n",
       "        vertical-align: top;\n",
       "    }\n",
       "\n",
       "    .dataframe thead th {\n",
       "        text-align: right;\n",
       "    }\n",
       "</style>\n",
       "<table border=\"1\" class=\"dataframe\">\n",
       "  <thead>\n",
       "    <tr style=\"text-align: right;\">\n",
       "      <th></th>\n",
       "      <th>Date</th>\n",
       "      <th>Open</th>\n",
       "      <th>High</th>\n",
       "      <th>Low</th>\n",
       "      <th>Close</th>\n",
       "      <th>Adj Close</th>\n",
       "      <th>Volume</th>\n",
       "    </tr>\n",
       "  </thead>\n",
       "  <tbody>\n",
       "    <tr>\n",
       "      <th>1004</th>\n",
       "      <td>2022-01-31</td>\n",
       "      <td>401.970001</td>\n",
       "      <td>427.700012</td>\n",
       "      <td>398.200012</td>\n",
       "      <td>427.140015</td>\n",
       "      <td>427.140015</td>\n",
       "      <td>20047500</td>\n",
       "    </tr>\n",
       "    <tr>\n",
       "      <th>1005</th>\n",
       "      <td>2022-02-01</td>\n",
       "      <td>432.959991</td>\n",
       "      <td>458.480011</td>\n",
       "      <td>425.540009</td>\n",
       "      <td>457.130005</td>\n",
       "      <td>457.130005</td>\n",
       "      <td>22542300</td>\n",
       "    </tr>\n",
       "    <tr>\n",
       "      <th>1006</th>\n",
       "      <td>2022-02-02</td>\n",
       "      <td>448.250000</td>\n",
       "      <td>451.980011</td>\n",
       "      <td>426.480011</td>\n",
       "      <td>429.480011</td>\n",
       "      <td>429.480011</td>\n",
       "      <td>14346000</td>\n",
       "    </tr>\n",
       "    <tr>\n",
       "      <th>1007</th>\n",
       "      <td>2022-02-03</td>\n",
       "      <td>421.440002</td>\n",
       "      <td>429.260010</td>\n",
       "      <td>404.279999</td>\n",
       "      <td>405.600006</td>\n",
       "      <td>405.600006</td>\n",
       "      <td>9905200</td>\n",
       "    </tr>\n",
       "    <tr>\n",
       "      <th>1008</th>\n",
       "      <td>2022-02-04</td>\n",
       "      <td>407.309998</td>\n",
       "      <td>412.769989</td>\n",
       "      <td>396.640015</td>\n",
       "      <td>410.170013</td>\n",
       "      <td>410.170013</td>\n",
       "      <td>7782400</td>\n",
       "    </tr>\n",
       "  </tbody>\n",
       "</table>\n",
       "</div>\n",
       "      <button class=\"colab-df-convert\" onclick=\"convertToInteractive('df-73fb1b84-efe2-48c8-865f-7dddb1ed8c8a')\"\n",
       "              title=\"Convert this dataframe to an interactive table.\"\n",
       "              style=\"display:none;\">\n",
       "        \n",
       "  <svg xmlns=\"http://www.w3.org/2000/svg\" height=\"24px\"viewBox=\"0 0 24 24\"\n",
       "       width=\"24px\">\n",
       "    <path d=\"M0 0h24v24H0V0z\" fill=\"none\"/>\n",
       "    <path d=\"M18.56 5.44l.94 2.06.94-2.06 2.06-.94-2.06-.94-.94-2.06-.94 2.06-2.06.94zm-11 1L8.5 8.5l.94-2.06 2.06-.94-2.06-.94L8.5 2.5l-.94 2.06-2.06.94zm10 10l.94 2.06.94-2.06 2.06-.94-2.06-.94-.94-2.06-.94 2.06-2.06.94z\"/><path d=\"M17.41 7.96l-1.37-1.37c-.4-.4-.92-.59-1.43-.59-.52 0-1.04.2-1.43.59L10.3 9.45l-7.72 7.72c-.78.78-.78 2.05 0 2.83L4 21.41c.39.39.9.59 1.41.59.51 0 1.02-.2 1.41-.59l7.78-7.78 2.81-2.81c.8-.78.8-2.07 0-2.86zM5.41 20L4 18.59l7.72-7.72 1.47 1.35L5.41 20z\"/>\n",
       "  </svg>\n",
       "      </button>\n",
       "      \n",
       "  <style>\n",
       "    .colab-df-container {\n",
       "      display:flex;\n",
       "      flex-wrap:wrap;\n",
       "      gap: 12px;\n",
       "    }\n",
       "\n",
       "    .colab-df-convert {\n",
       "      background-color: #E8F0FE;\n",
       "      border: none;\n",
       "      border-radius: 50%;\n",
       "      cursor: pointer;\n",
       "      display: none;\n",
       "      fill: #1967D2;\n",
       "      height: 32px;\n",
       "      padding: 0 0 0 0;\n",
       "      width: 32px;\n",
       "    }\n",
       "\n",
       "    .colab-df-convert:hover {\n",
       "      background-color: #E2EBFA;\n",
       "      box-shadow: 0px 1px 2px rgba(60, 64, 67, 0.3), 0px 1px 3px 1px rgba(60, 64, 67, 0.15);\n",
       "      fill: #174EA6;\n",
       "    }\n",
       "\n",
       "    [theme=dark] .colab-df-convert {\n",
       "      background-color: #3B4455;\n",
       "      fill: #D2E3FC;\n",
       "    }\n",
       "\n",
       "    [theme=dark] .colab-df-convert:hover {\n",
       "      background-color: #434B5C;\n",
       "      box-shadow: 0px 1px 3px 1px rgba(0, 0, 0, 0.15);\n",
       "      filter: drop-shadow(0px 1px 2px rgba(0, 0, 0, 0.3));\n",
       "      fill: #FFFFFF;\n",
       "    }\n",
       "  </style>\n",
       "\n",
       "      <script>\n",
       "        const buttonEl =\n",
       "          document.querySelector('#df-73fb1b84-efe2-48c8-865f-7dddb1ed8c8a button.colab-df-convert');\n",
       "        buttonEl.style.display =\n",
       "          google.colab.kernel.accessAllowed ? 'block' : 'none';\n",
       "\n",
       "        async function convertToInteractive(key) {\n",
       "          const element = document.querySelector('#df-73fb1b84-efe2-48c8-865f-7dddb1ed8c8a');\n",
       "          const dataTable =\n",
       "            await google.colab.kernel.invokeFunction('convertToInteractive',\n",
       "                                                     [key], {});\n",
       "          if (!dataTable) return;\n",
       "\n",
       "          const docLinkHtml = 'Like what you see? Visit the ' +\n",
       "            '<a target=\"_blank\" href=https://colab.research.google.com/notebooks/data_table.ipynb>data table notebook</a>'\n",
       "            + ' to learn more about interactive tables.';\n",
       "          element.innerHTML = '';\n",
       "          dataTable['output_type'] = 'display_data';\n",
       "          await google.colab.output.renderOutput(dataTable, element);\n",
       "          const docLink = document.createElement('div');\n",
       "          docLink.innerHTML = docLinkHtml;\n",
       "          element.appendChild(docLink);\n",
       "        }\n",
       "      </script>\n",
       "    </div>\n",
       "  </div>\n",
       "  "
      ],
      "text/plain": [
       "            Date        Open        High         Low       Close   Adj Close  \\\n",
       "1004  2022-01-31  401.970001  427.700012  398.200012  427.140015  427.140015   \n",
       "1005  2022-02-01  432.959991  458.480011  425.540009  457.130005  457.130005   \n",
       "1006  2022-02-02  448.250000  451.980011  426.480011  429.480011  429.480011   \n",
       "1007  2022-02-03  421.440002  429.260010  404.279999  405.600006  405.600006   \n",
       "1008  2022-02-04  407.309998  412.769989  396.640015  410.170013  410.170013   \n",
       "\n",
       "        Volume  \n",
       "1004  20047500  \n",
       "1005  22542300  \n",
       "1006  14346000  \n",
       "1007   9905200  \n",
       "1008   7782400  "
      ]
     },
     "execution_count": 5,
     "metadata": {},
     "output_type": "execute_result"
    }
   ],
   "source": [
    "df.tail()"
   ]
  },
  {
   "cell_type": "code",
   "execution_count": null,
   "metadata": {
    "colab": {
     "base_uri": "https://localhost:8080/"
    },
    "executionInfo": {
     "elapsed": 6,
     "status": "ok",
     "timestamp": 1677789528740,
     "user": {
      "displayName": "Adekunjo Moshood",
      "userId": "07268946589538442356"
     },
     "user_tz": -60
    },
    "id": "SDjPWeS3PFz5",
    "outputId": "ad2182a3-4d60-4ee5-a5aa-b60122573018"
   },
   "outputs": [
    {
     "data": {
      "text/plain": [
       "(1009, 7)"
      ]
     },
     "execution_count": 6,
     "metadata": {},
     "output_type": "execute_result"
    }
   ],
   "source": [
    "df.shape"
   ]
  },
  {
   "cell_type": "code",
   "execution_count": null,
   "metadata": {
    "id": "F9Zffe6ZDleh"
   },
   "outputs": [],
   "source": [
    "df.Date =  pd.to_datetime(df.Date,format='%Y-%m-%d')"
   ]
  },
  {
   "cell_type": "code",
   "execution_count": null,
   "metadata": {
    "id": "sskA8d1nD8u5"
   },
   "outputs": [],
   "source": [
    "df.set_index('Date',inplace = True)"
   ]
  },
  {
   "cell_type": "code",
   "execution_count": null,
   "metadata": {
    "colab": {
     "base_uri": "https://localhost:8080/",
     "height": 237
    },
    "executionInfo": {
     "elapsed": 8,
     "status": "ok",
     "timestamp": 1677789529443,
     "user": {
      "displayName": "Adekunjo Moshood",
      "userId": "07268946589538442356"
     },
     "user_tz": -60
    },
    "id": "TsSa9zlbECCE",
    "outputId": "ddf18522-3fea-4d3f-ad15-1ec0b32d4a14"
   },
   "outputs": [
    {
     "data": {
      "text/html": [
       "\n",
       "  <div id=\"df-1d50c493-406c-454a-bba0-a77fa5b5a0e4\">\n",
       "    <div class=\"colab-df-container\">\n",
       "      <div>\n",
       "<style scoped>\n",
       "    .dataframe tbody tr th:only-of-type {\n",
       "        vertical-align: middle;\n",
       "    }\n",
       "\n",
       "    .dataframe tbody tr th {\n",
       "        vertical-align: top;\n",
       "    }\n",
       "\n",
       "    .dataframe thead th {\n",
       "        text-align: right;\n",
       "    }\n",
       "</style>\n",
       "<table border=\"1\" class=\"dataframe\">\n",
       "  <thead>\n",
       "    <tr style=\"text-align: right;\">\n",
       "      <th></th>\n",
       "      <th>Open</th>\n",
       "      <th>High</th>\n",
       "      <th>Low</th>\n",
       "      <th>Close</th>\n",
       "      <th>Adj Close</th>\n",
       "      <th>Volume</th>\n",
       "    </tr>\n",
       "    <tr>\n",
       "      <th>Date</th>\n",
       "      <th></th>\n",
       "      <th></th>\n",
       "      <th></th>\n",
       "      <th></th>\n",
       "      <th></th>\n",
       "      <th></th>\n",
       "    </tr>\n",
       "  </thead>\n",
       "  <tbody>\n",
       "    <tr>\n",
       "      <th>2018-02-05</th>\n",
       "      <td>262.000000</td>\n",
       "      <td>267.899994</td>\n",
       "      <td>250.029999</td>\n",
       "      <td>254.259995</td>\n",
       "      <td>254.259995</td>\n",
       "      <td>11896100</td>\n",
       "    </tr>\n",
       "    <tr>\n",
       "      <th>2018-02-06</th>\n",
       "      <td>247.699997</td>\n",
       "      <td>266.700012</td>\n",
       "      <td>245.000000</td>\n",
       "      <td>265.720001</td>\n",
       "      <td>265.720001</td>\n",
       "      <td>12595800</td>\n",
       "    </tr>\n",
       "    <tr>\n",
       "      <th>2018-02-07</th>\n",
       "      <td>266.579987</td>\n",
       "      <td>272.450012</td>\n",
       "      <td>264.329987</td>\n",
       "      <td>264.559998</td>\n",
       "      <td>264.559998</td>\n",
       "      <td>8981500</td>\n",
       "    </tr>\n",
       "    <tr>\n",
       "      <th>2018-02-08</th>\n",
       "      <td>267.079987</td>\n",
       "      <td>267.619995</td>\n",
       "      <td>250.000000</td>\n",
       "      <td>250.100006</td>\n",
       "      <td>250.100006</td>\n",
       "      <td>9306700</td>\n",
       "    </tr>\n",
       "    <tr>\n",
       "      <th>2018-02-09</th>\n",
       "      <td>253.850006</td>\n",
       "      <td>255.800003</td>\n",
       "      <td>236.110001</td>\n",
       "      <td>249.470001</td>\n",
       "      <td>249.470001</td>\n",
       "      <td>16906900</td>\n",
       "    </tr>\n",
       "  </tbody>\n",
       "</table>\n",
       "</div>\n",
       "      <button class=\"colab-df-convert\" onclick=\"convertToInteractive('df-1d50c493-406c-454a-bba0-a77fa5b5a0e4')\"\n",
       "              title=\"Convert this dataframe to an interactive table.\"\n",
       "              style=\"display:none;\">\n",
       "        \n",
       "  <svg xmlns=\"http://www.w3.org/2000/svg\" height=\"24px\"viewBox=\"0 0 24 24\"\n",
       "       width=\"24px\">\n",
       "    <path d=\"M0 0h24v24H0V0z\" fill=\"none\"/>\n",
       "    <path d=\"M18.56 5.44l.94 2.06.94-2.06 2.06-.94-2.06-.94-.94-2.06-.94 2.06-2.06.94zm-11 1L8.5 8.5l.94-2.06 2.06-.94-2.06-.94L8.5 2.5l-.94 2.06-2.06.94zm10 10l.94 2.06.94-2.06 2.06-.94-2.06-.94-.94-2.06-.94 2.06-2.06.94z\"/><path d=\"M17.41 7.96l-1.37-1.37c-.4-.4-.92-.59-1.43-.59-.52 0-1.04.2-1.43.59L10.3 9.45l-7.72 7.72c-.78.78-.78 2.05 0 2.83L4 21.41c.39.39.9.59 1.41.59.51 0 1.02-.2 1.41-.59l7.78-7.78 2.81-2.81c.8-.78.8-2.07 0-2.86zM5.41 20L4 18.59l7.72-7.72 1.47 1.35L5.41 20z\"/>\n",
       "  </svg>\n",
       "      </button>\n",
       "      \n",
       "  <style>\n",
       "    .colab-df-container {\n",
       "      display:flex;\n",
       "      flex-wrap:wrap;\n",
       "      gap: 12px;\n",
       "    }\n",
       "\n",
       "    .colab-df-convert {\n",
       "      background-color: #E8F0FE;\n",
       "      border: none;\n",
       "      border-radius: 50%;\n",
       "      cursor: pointer;\n",
       "      display: none;\n",
       "      fill: #1967D2;\n",
       "      height: 32px;\n",
       "      padding: 0 0 0 0;\n",
       "      width: 32px;\n",
       "    }\n",
       "\n",
       "    .colab-df-convert:hover {\n",
       "      background-color: #E2EBFA;\n",
       "      box-shadow: 0px 1px 2px rgba(60, 64, 67, 0.3), 0px 1px 3px 1px rgba(60, 64, 67, 0.15);\n",
       "      fill: #174EA6;\n",
       "    }\n",
       "\n",
       "    [theme=dark] .colab-df-convert {\n",
       "      background-color: #3B4455;\n",
       "      fill: #D2E3FC;\n",
       "    }\n",
       "\n",
       "    [theme=dark] .colab-df-convert:hover {\n",
       "      background-color: #434B5C;\n",
       "      box-shadow: 0px 1px 3px 1px rgba(0, 0, 0, 0.15);\n",
       "      filter: drop-shadow(0px 1px 2px rgba(0, 0, 0, 0.3));\n",
       "      fill: #FFFFFF;\n",
       "    }\n",
       "  </style>\n",
       "\n",
       "      <script>\n",
       "        const buttonEl =\n",
       "          document.querySelector('#df-1d50c493-406c-454a-bba0-a77fa5b5a0e4 button.colab-df-convert');\n",
       "        buttonEl.style.display =\n",
       "          google.colab.kernel.accessAllowed ? 'block' : 'none';\n",
       "\n",
       "        async function convertToInteractive(key) {\n",
       "          const element = document.querySelector('#df-1d50c493-406c-454a-bba0-a77fa5b5a0e4');\n",
       "          const dataTable =\n",
       "            await google.colab.kernel.invokeFunction('convertToInteractive',\n",
       "                                                     [key], {});\n",
       "          if (!dataTable) return;\n",
       "\n",
       "          const docLinkHtml = 'Like what you see? Visit the ' +\n",
       "            '<a target=\"_blank\" href=https://colab.research.google.com/notebooks/data_table.ipynb>data table notebook</a>'\n",
       "            + ' to learn more about interactive tables.';\n",
       "          element.innerHTML = '';\n",
       "          dataTable['output_type'] = 'display_data';\n",
       "          await google.colab.output.renderOutput(dataTable, element);\n",
       "          const docLink = document.createElement('div');\n",
       "          docLink.innerHTML = docLinkHtml;\n",
       "          element.appendChild(docLink);\n",
       "        }\n",
       "      </script>\n",
       "    </div>\n",
       "  </div>\n",
       "  "
      ],
      "text/plain": [
       "                  Open        High         Low       Close   Adj Close  \\\n",
       "Date                                                                     \n",
       "2018-02-05  262.000000  267.899994  250.029999  254.259995  254.259995   \n",
       "2018-02-06  247.699997  266.700012  245.000000  265.720001  265.720001   \n",
       "2018-02-07  266.579987  272.450012  264.329987  264.559998  264.559998   \n",
       "2018-02-08  267.079987  267.619995  250.000000  250.100006  250.100006   \n",
       "2018-02-09  253.850006  255.800003  236.110001  249.470001  249.470001   \n",
       "\n",
       "              Volume  \n",
       "Date                  \n",
       "2018-02-05  11896100  \n",
       "2018-02-06  12595800  \n",
       "2018-02-07   8981500  \n",
       "2018-02-08   9306700  \n",
       "2018-02-09  16906900  "
      ]
     },
     "execution_count": 9,
     "metadata": {},
     "output_type": "execute_result"
    }
   ],
   "source": [
    "df.head()"
   ]
  },
  {
   "cell_type": "code",
   "execution_count": null,
   "metadata": {
    "id": "g8mIDnSZI5el"
   },
   "outputs": [],
   "source": [
    "data = df[['Close']]"
   ]
  },
  {
   "cell_type": "code",
   "execution_count": null,
   "metadata": {
    "colab": {
     "base_uri": "https://localhost:8080/",
     "height": 237
    },
    "executionInfo": {
     "elapsed": 6,
     "status": "ok",
     "timestamp": 1677789530759,
     "user": {
      "displayName": "Adekunjo Moshood",
      "userId": "07268946589538442356"
     },
     "user_tz": -60
    },
    "id": "lFbV7GPNJIFL",
    "outputId": "7e51b1c5-99b2-4cfe-df07-632cb85a380c"
   },
   "outputs": [
    {
     "data": {
      "text/html": [
       "\n",
       "  <div id=\"df-1949e28c-2fe9-4400-9348-ea0481d05f30\">\n",
       "    <div class=\"colab-df-container\">\n",
       "      <div>\n",
       "<style scoped>\n",
       "    .dataframe tbody tr th:only-of-type {\n",
       "        vertical-align: middle;\n",
       "    }\n",
       "\n",
       "    .dataframe tbody tr th {\n",
       "        vertical-align: top;\n",
       "    }\n",
       "\n",
       "    .dataframe thead th {\n",
       "        text-align: right;\n",
       "    }\n",
       "</style>\n",
       "<table border=\"1\" class=\"dataframe\">\n",
       "  <thead>\n",
       "    <tr style=\"text-align: right;\">\n",
       "      <th></th>\n",
       "      <th>Close</th>\n",
       "    </tr>\n",
       "    <tr>\n",
       "      <th>Date</th>\n",
       "      <th></th>\n",
       "    </tr>\n",
       "  </thead>\n",
       "  <tbody>\n",
       "    <tr>\n",
       "      <th>2018-02-05</th>\n",
       "      <td>254.259995</td>\n",
       "    </tr>\n",
       "    <tr>\n",
       "      <th>2018-02-06</th>\n",
       "      <td>265.720001</td>\n",
       "    </tr>\n",
       "    <tr>\n",
       "      <th>2018-02-07</th>\n",
       "      <td>264.559998</td>\n",
       "    </tr>\n",
       "    <tr>\n",
       "      <th>2018-02-08</th>\n",
       "      <td>250.100006</td>\n",
       "    </tr>\n",
       "    <tr>\n",
       "      <th>2018-02-09</th>\n",
       "      <td>249.470001</td>\n",
       "    </tr>\n",
       "  </tbody>\n",
       "</table>\n",
       "</div>\n",
       "      <button class=\"colab-df-convert\" onclick=\"convertToInteractive('df-1949e28c-2fe9-4400-9348-ea0481d05f30')\"\n",
       "              title=\"Convert this dataframe to an interactive table.\"\n",
       "              style=\"display:none;\">\n",
       "        \n",
       "  <svg xmlns=\"http://www.w3.org/2000/svg\" height=\"24px\"viewBox=\"0 0 24 24\"\n",
       "       width=\"24px\">\n",
       "    <path d=\"M0 0h24v24H0V0z\" fill=\"none\"/>\n",
       "    <path d=\"M18.56 5.44l.94 2.06.94-2.06 2.06-.94-2.06-.94-.94-2.06-.94 2.06-2.06.94zm-11 1L8.5 8.5l.94-2.06 2.06-.94-2.06-.94L8.5 2.5l-.94 2.06-2.06.94zm10 10l.94 2.06.94-2.06 2.06-.94-2.06-.94-.94-2.06-.94 2.06-2.06.94z\"/><path d=\"M17.41 7.96l-1.37-1.37c-.4-.4-.92-.59-1.43-.59-.52 0-1.04.2-1.43.59L10.3 9.45l-7.72 7.72c-.78.78-.78 2.05 0 2.83L4 21.41c.39.39.9.59 1.41.59.51 0 1.02-.2 1.41-.59l7.78-7.78 2.81-2.81c.8-.78.8-2.07 0-2.86zM5.41 20L4 18.59l7.72-7.72 1.47 1.35L5.41 20z\"/>\n",
       "  </svg>\n",
       "      </button>\n",
       "      \n",
       "  <style>\n",
       "    .colab-df-container {\n",
       "      display:flex;\n",
       "      flex-wrap:wrap;\n",
       "      gap: 12px;\n",
       "    }\n",
       "\n",
       "    .colab-df-convert {\n",
       "      background-color: #E8F0FE;\n",
       "      border: none;\n",
       "      border-radius: 50%;\n",
       "      cursor: pointer;\n",
       "      display: none;\n",
       "      fill: #1967D2;\n",
       "      height: 32px;\n",
       "      padding: 0 0 0 0;\n",
       "      width: 32px;\n",
       "    }\n",
       "\n",
       "    .colab-df-convert:hover {\n",
       "      background-color: #E2EBFA;\n",
       "      box-shadow: 0px 1px 2px rgba(60, 64, 67, 0.3), 0px 1px 3px 1px rgba(60, 64, 67, 0.15);\n",
       "      fill: #174EA6;\n",
       "    }\n",
       "\n",
       "    [theme=dark] .colab-df-convert {\n",
       "      background-color: #3B4455;\n",
       "      fill: #D2E3FC;\n",
       "    }\n",
       "\n",
       "    [theme=dark] .colab-df-convert:hover {\n",
       "      background-color: #434B5C;\n",
       "      box-shadow: 0px 1px 3px 1px rgba(0, 0, 0, 0.15);\n",
       "      filter: drop-shadow(0px 1px 2px rgba(0, 0, 0, 0.3));\n",
       "      fill: #FFFFFF;\n",
       "    }\n",
       "  </style>\n",
       "\n",
       "      <script>\n",
       "        const buttonEl =\n",
       "          document.querySelector('#df-1949e28c-2fe9-4400-9348-ea0481d05f30 button.colab-df-convert');\n",
       "        buttonEl.style.display =\n",
       "          google.colab.kernel.accessAllowed ? 'block' : 'none';\n",
       "\n",
       "        async function convertToInteractive(key) {\n",
       "          const element = document.querySelector('#df-1949e28c-2fe9-4400-9348-ea0481d05f30');\n",
       "          const dataTable =\n",
       "            await google.colab.kernel.invokeFunction('convertToInteractive',\n",
       "                                                     [key], {});\n",
       "          if (!dataTable) return;\n",
       "\n",
       "          const docLinkHtml = 'Like what you see? Visit the ' +\n",
       "            '<a target=\"_blank\" href=https://colab.research.google.com/notebooks/data_table.ipynb>data table notebook</a>'\n",
       "            + ' to learn more about interactive tables.';\n",
       "          element.innerHTML = '';\n",
       "          dataTable['output_type'] = 'display_data';\n",
       "          await google.colab.output.renderOutput(dataTable, element);\n",
       "          const docLink = document.createElement('div');\n",
       "          docLink.innerHTML = docLinkHtml;\n",
       "          element.appendChild(docLink);\n",
       "        }\n",
       "      </script>\n",
       "    </div>\n",
       "  </div>\n",
       "  "
      ],
      "text/plain": [
       "                 Close\n",
       "Date                  \n",
       "2018-02-05  254.259995\n",
       "2018-02-06  265.720001\n",
       "2018-02-07  264.559998\n",
       "2018-02-08  250.100006\n",
       "2018-02-09  249.470001"
      ]
     },
     "execution_count": 11,
     "metadata": {},
     "output_type": "execute_result"
    }
   ],
   "source": [
    "data.head()"
   ]
  },
  {
   "cell_type": "code",
   "execution_count": null,
   "metadata": {
    "id": "LrbPDol2EDVC"
   },
   "outputs": [],
   "source": [
    "from sklearn.preprocessing import MinMaxScaler\n",
    "scalar = MinMaxScaler(feature_range=(0,1))\n",
    "data_scaled = scalar.fit_transform(data)"
   ]
  },
  {
   "cell_type": "code",
   "execution_count": null,
   "metadata": {
    "colab": {
     "base_uri": "https://localhost:8080/"
    },
    "executionInfo": {
     "elapsed": 15,
     "status": "ok",
     "timestamp": 1677789531652,
     "user": {
      "displayName": "Adekunjo Moshood",
      "userId": "07268946589538442356"
     },
     "user_tz": -60
    },
    "id": "Kct0E33OKWEo",
    "outputId": "c8b68e73-0f58-45ec-f163-fbc81b7e02e1"
   },
   "outputs": [
    {
     "data": {
      "text/plain": [
       "array([[0.04451626],\n",
       "       [0.06954849],\n",
       "       [0.06701469],\n",
       "       ...,\n",
       "       [0.4272515 ],\n",
       "       [0.37509011],\n",
       "       [0.38507243]])"
      ]
     },
     "execution_count": 13,
     "metadata": {},
     "output_type": "execute_result"
    }
   ],
   "source": [
    "data_scaled"
   ]
  },
  {
   "cell_type": "code",
   "execution_count": null,
   "metadata": {
    "colab": {
     "base_uri": "https://localhost:8080/"
    },
    "executionInfo": {
     "elapsed": 10,
     "status": "ok",
     "timestamp": 1677789532354,
     "user": {
      "displayName": "Adekunjo Moshood",
      "userId": "07268946589538442356"
     },
     "user_tz": -60
    },
    "id": "Q5nDbyJ4GTlB",
    "outputId": "1f5650db-17d5-49c7-d21d-ac0e072248ed"
   },
   "outputs": [
    {
     "data": {
      "text/plain": [
       "808"
      ]
     },
     "execution_count": 14,
     "metadata": {},
     "output_type": "execute_result"
    }
   ],
   "source": [
    "import math\n",
    "train_len = math.ceil(len(data)*0.8)\n",
    "train_len"
   ]
  },
  {
   "cell_type": "code",
   "execution_count": null,
   "metadata": {
    "id": "1TTWRSWWKv9g"
   },
   "outputs": [],
   "source": [
    "train = data_scaled[0:train_len]"
   ]
  },
  {
   "cell_type": "code",
   "execution_count": null,
   "metadata": {
    "id": "3KgYVDvTMG7T"
   },
   "outputs": [],
   "source": [
    "test = data_scaled[train_len:]"
   ]
  },
  {
   "cell_type": "code",
   "execution_count": null,
   "metadata": {
    "id": "YHjFCEsbM3FQ"
   },
   "outputs": [],
   "source": [
    "X_train=[]\n",
    "y_train=[] \n",
    "\n",
    "for i in range(len(train) - 2):\n",
    "    j = train[i:(i+2), 0]\n",
    "    X_train.append(j)\n",
    "    y_train.append(train[i+2,0])"
   ]
  },
  {
   "cell_type": "code",
   "execution_count": null,
   "metadata": {
    "id": "V44tzBLiMviM"
   },
   "outputs": [],
   "source": [
    "X_val=[]\n",
    "Y_val=[] \n",
    "\n",
    "for i in range(2, len(test) - 2):\n",
    "    j = test[i:(i+2), 0]\n",
    "    X_val.append(j)\n",
    "    Y_val.append(test[i + 2, 0])"
   ]
  },
  {
   "cell_type": "code",
   "execution_count": null,
   "metadata": {
    "id": "-ZHKsTJBGUvz"
   },
   "outputs": [],
   "source": []
  },
  {
   "cell_type": "code",
   "execution_count": null,
   "metadata": {
    "colab": {
     "base_uri": "https://localhost:8080/"
    },
    "executionInfo": {
     "elapsed": 46,
     "status": "ok",
     "timestamp": 1677789539653,
     "user": {
      "displayName": "Adekunjo Moshood",
      "userId": "07268946589538442356"
     },
     "user_tz": -60
    },
    "id": "5BgKVdRaGcBc",
    "outputId": "729eef23-1589-47d4-9659-48087e223d3d"
   },
   "outputs": [
    {
     "name": "stdout",
     "output_type": "stream",
     "text": [
      "(806, 2) (806,)\n",
      "(806, 2, 1) (806,)\n"
     ]
    }
   ],
   "source": [
    "X_train, y_train= np.array(X_train), np.array(y_train)\n",
    "print(X_train.shape , y_train.shape)\n",
    "X_train = np.reshape(X_train, (X_train.shape[0], X_train.shape[1], 1))\n",
    "print(X_train.shape , y_train.shape)"
   ]
  },
  {
   "cell_type": "code",
   "execution_count": null,
   "metadata": {
    "id": "1UCNJmHh5DsB"
   },
   "outputs": [],
   "source": [
    "X_val, Y_val = np.array(X_val), np.array(Y_val)\n",
    "X_val = np.reshape(X_val, (X_val.shape[0], X_val.shape[1],1))\n"
   ]
  },
  {
   "cell_type": "markdown",
   "metadata": {
    "id": "p7fA-Lb1YAu0"
   },
   "source": [
    "## **LSTM**"
   ]
  },
  {
   "cell_type": "code",
   "execution_count": null,
   "metadata": {
    "colab": {
     "base_uri": "https://localhost:8080/"
    },
    "executionInfo": {
     "elapsed": 45230,
     "status": "ok",
     "timestamp": 1677791034759,
     "user": {
      "displayName": "Adekunjo Moshood",
      "userId": "07268946589538442356"
     },
     "user_tz": -60
    },
    "id": "WDwfTqznGhF5",
    "outputId": "cc8f878b-fd0d-4f8d-b3fa-dc538572ad02"
   },
   "outputs": [
    {
     "name": "stdout",
     "output_type": "stream",
     "text": [
      "Model: \"sequential_4\"\n",
      "_________________________________________________________________\n",
      " Layer (type)                Output Shape              Param #   \n",
      "=================================================================\n",
      " lstm_2 (LSTM)               (None, 256)               264192    \n",
      "                                                                 \n",
      " dropout_12 (Dropout)        (None, 256)               0         \n",
      "                                                                 \n",
      " dense_12 (Dense)            (None, 64)                16448     \n",
      "                                                                 \n",
      " dropout_13 (Dropout)        (None, 64)                0         \n",
      "                                                                 \n",
      " dense_13 (Dense)            (None, 32)                2080      \n",
      "                                                                 \n",
      " dropout_14 (Dropout)        (None, 32)                0         \n",
      "                                                                 \n",
      " dense_14 (Dense)            (None, 1)                 33        \n",
      "                                                                 \n",
      "=================================================================\n",
      "Total params: 282,753\n",
      "Trainable params: 282,753\n",
      "Non-trainable params: 0\n",
      "_________________________________________________________________\n",
      "Epoch 1/100\n",
      "17/17 - 5s - loss: 0.0526 - mean_squared_error: 0.0526 - val_loss: 0.0079 - val_mean_squared_error: 0.0079 - 5s/epoch - 306ms/step\n",
      "Epoch 2/100\n",
      "17/17 - 0s - loss: 0.0123 - mean_squared_error: 0.0123 - val_loss: 0.0198 - val_mean_squared_error: 0.0198 - 472ms/epoch - 28ms/step\n",
      "Epoch 3/100\n",
      "17/17 - 0s - loss: 0.0055 - mean_squared_error: 0.0055 - val_loss: 0.0014 - val_mean_squared_error: 0.0014 - 433ms/epoch - 25ms/step\n",
      "Epoch 4/100\n",
      "17/17 - 0s - loss: 0.0049 - mean_squared_error: 0.0049 - val_loss: 0.0012 - val_mean_squared_error: 0.0012 - 397ms/epoch - 23ms/step\n",
      "Epoch 5/100\n",
      "17/17 - 0s - loss: 0.0045 - mean_squared_error: 0.0045 - val_loss: 0.0015 - val_mean_squared_error: 0.0015 - 310ms/epoch - 18ms/step\n",
      "Epoch 6/100\n",
      "17/17 - 0s - loss: 0.0039 - mean_squared_error: 0.0039 - val_loss: 0.0015 - val_mean_squared_error: 0.0015 - 294ms/epoch - 17ms/step\n",
      "Epoch 7/100\n",
      "17/17 - 0s - loss: 0.0037 - mean_squared_error: 0.0037 - val_loss: 0.0032 - val_mean_squared_error: 0.0032 - 286ms/epoch - 17ms/step\n",
      "Epoch 8/100\n",
      "17/17 - 0s - loss: 0.0040 - mean_squared_error: 0.0040 - val_loss: 0.0024 - val_mean_squared_error: 0.0024 - 298ms/epoch - 18ms/step\n",
      "Epoch 9/100\n",
      "17/17 - 0s - loss: 0.0040 - mean_squared_error: 0.0040 - val_loss: 0.0025 - val_mean_squared_error: 0.0025 - 277ms/epoch - 16ms/step\n",
      "Epoch 10/100\n",
      "17/17 - 0s - loss: 0.0032 - mean_squared_error: 0.0032 - val_loss: 0.0014 - val_mean_squared_error: 0.0014 - 279ms/epoch - 16ms/step\n",
      "Epoch 11/100\n",
      "17/17 - 0s - loss: 0.0035 - mean_squared_error: 0.0035 - val_loss: 0.0018 - val_mean_squared_error: 0.0018 - 266ms/epoch - 16ms/step\n",
      "Epoch 12/100\n",
      "17/17 - 0s - loss: 0.0033 - mean_squared_error: 0.0033 - val_loss: 0.0012 - val_mean_squared_error: 0.0012 - 337ms/epoch - 20ms/step\n",
      "Epoch 13/100\n",
      "17/17 - 0s - loss: 0.0030 - mean_squared_error: 0.0030 - val_loss: 0.0013 - val_mean_squared_error: 0.0013 - 281ms/epoch - 17ms/step\n",
      "Epoch 14/100\n",
      "17/17 - 0s - loss: 0.0029 - mean_squared_error: 0.0029 - val_loss: 0.0019 - val_mean_squared_error: 0.0019 - 267ms/epoch - 16ms/step\n",
      "Epoch 15/100\n",
      "17/17 - 0s - loss: 0.0029 - mean_squared_error: 0.0029 - val_loss: 0.0012 - val_mean_squared_error: 0.0012 - 294ms/epoch - 17ms/step\n",
      "Epoch 16/100\n",
      "17/17 - 0s - loss: 0.0029 - mean_squared_error: 0.0029 - val_loss: 0.0013 - val_mean_squared_error: 0.0013 - 292ms/epoch - 17ms/step\n",
      "Epoch 17/100\n",
      "17/17 - 0s - loss: 0.0027 - mean_squared_error: 0.0027 - val_loss: 0.0014 - val_mean_squared_error: 0.0014 - 352ms/epoch - 21ms/step\n",
      "Epoch 18/100\n",
      "17/17 - 0s - loss: 0.0027 - mean_squared_error: 0.0027 - val_loss: 0.0012 - val_mean_squared_error: 0.0012 - 283ms/epoch - 17ms/step\n",
      "Epoch 19/100\n",
      "17/17 - 0s - loss: 0.0031 - mean_squared_error: 0.0031 - val_loss: 0.0012 - val_mean_squared_error: 0.0012 - 312ms/epoch - 18ms/step\n",
      "Epoch 20/100\n",
      "17/17 - 0s - loss: 0.0026 - mean_squared_error: 0.0026 - val_loss: 0.0027 - val_mean_squared_error: 0.0027 - 293ms/epoch - 17ms/step\n",
      "Epoch 21/100\n",
      "17/17 - 0s - loss: 0.0026 - mean_squared_error: 0.0026 - val_loss: 0.0012 - val_mean_squared_error: 0.0012 - 344ms/epoch - 20ms/step\n",
      "Epoch 22/100\n",
      "17/17 - 0s - loss: 0.0027 - mean_squared_error: 0.0027 - val_loss: 0.0011 - val_mean_squared_error: 0.0011 - 314ms/epoch - 18ms/step\n",
      "Epoch 23/100\n",
      "17/17 - 0s - loss: 0.0026 - mean_squared_error: 0.0026 - val_loss: 0.0016 - val_mean_squared_error: 0.0016 - 273ms/epoch - 16ms/step\n",
      "Epoch 24/100\n",
      "17/17 - 0s - loss: 0.0023 - mean_squared_error: 0.0023 - val_loss: 0.0017 - val_mean_squared_error: 0.0017 - 275ms/epoch - 16ms/step\n",
      "Epoch 25/100\n",
      "17/17 - 0s - loss: 0.0025 - mean_squared_error: 0.0025 - val_loss: 0.0014 - val_mean_squared_error: 0.0014 - 344ms/epoch - 20ms/step\n",
      "Epoch 26/100\n",
      "17/17 - 0s - loss: 0.0022 - mean_squared_error: 0.0022 - val_loss: 0.0012 - val_mean_squared_error: 0.0012 - 291ms/epoch - 17ms/step\n",
      "Epoch 27/100\n",
      "17/17 - 0s - loss: 0.0024 - mean_squared_error: 0.0024 - val_loss: 0.0011 - val_mean_squared_error: 0.0011 - 265ms/epoch - 16ms/step\n",
      "Epoch 28/100\n",
      "17/17 - 0s - loss: 0.0024 - mean_squared_error: 0.0024 - val_loss: 0.0014 - val_mean_squared_error: 0.0014 - 284ms/epoch - 17ms/step\n",
      "Epoch 29/100\n",
      "17/17 - 0s - loss: 0.0022 - mean_squared_error: 0.0022 - val_loss: 0.0014 - val_mean_squared_error: 0.0014 - 296ms/epoch - 17ms/step\n",
      "Epoch 30/100\n",
      "17/17 - 0s - loss: 0.0021 - mean_squared_error: 0.0021 - val_loss: 0.0012 - val_mean_squared_error: 0.0012 - 324ms/epoch - 19ms/step\n",
      "Epoch 31/100\n",
      "17/17 - 0s - loss: 0.0024 - mean_squared_error: 0.0024 - val_loss: 0.0020 - val_mean_squared_error: 0.0020 - 292ms/epoch - 17ms/step\n",
      "Epoch 32/100\n",
      "17/17 - 0s - loss: 0.0020 - mean_squared_error: 0.0020 - val_loss: 0.0017 - val_mean_squared_error: 0.0017 - 299ms/epoch - 18ms/step\n",
      "Epoch 33/100\n",
      "17/17 - 0s - loss: 0.0023 - mean_squared_error: 0.0023 - val_loss: 0.0014 - val_mean_squared_error: 0.0014 - 277ms/epoch - 16ms/step\n",
      "Epoch 34/100\n",
      "17/17 - 0s - loss: 0.0019 - mean_squared_error: 0.0019 - val_loss: 0.0017 - val_mean_squared_error: 0.0017 - 286ms/epoch - 17ms/step\n",
      "Epoch 35/100\n",
      "17/17 - 0s - loss: 0.0021 - mean_squared_error: 0.0021 - val_loss: 0.0025 - val_mean_squared_error: 0.0025 - 319ms/epoch - 19ms/step\n",
      "Epoch 36/100\n",
      "17/17 - 0s - loss: 0.0021 - mean_squared_error: 0.0021 - val_loss: 0.0024 - val_mean_squared_error: 0.0024 - 273ms/epoch - 16ms/step\n",
      "Epoch 37/100\n",
      "17/17 - 0s - loss: 0.0020 - mean_squared_error: 0.0020 - val_loss: 0.0012 - val_mean_squared_error: 0.0012 - 265ms/epoch - 16ms/step\n",
      "Epoch 38/100\n",
      "17/17 - 0s - loss: 0.0024 - mean_squared_error: 0.0024 - val_loss: 0.0016 - val_mean_squared_error: 0.0016 - 411ms/epoch - 24ms/step\n",
      "Epoch 39/100\n",
      "17/17 - 0s - loss: 0.0023 - mean_squared_error: 0.0023 - val_loss: 0.0013 - val_mean_squared_error: 0.0013 - 422ms/epoch - 25ms/step\n",
      "Epoch 40/100\n",
      "17/17 - 0s - loss: 0.0021 - mean_squared_error: 0.0021 - val_loss: 0.0011 - val_mean_squared_error: 0.0011 - 457ms/epoch - 27ms/step\n",
      "Epoch 41/100\n",
      "17/17 - 0s - loss: 0.0018 - mean_squared_error: 0.0018 - val_loss: 0.0016 - val_mean_squared_error: 0.0016 - 452ms/epoch - 27ms/step\n",
      "Epoch 42/100\n",
      "17/17 - 0s - loss: 0.0018 - mean_squared_error: 0.0018 - val_loss: 0.0011 - val_mean_squared_error: 0.0011 - 416ms/epoch - 24ms/step\n",
      "Epoch 43/100\n",
      "17/17 - 0s - loss: 0.0021 - mean_squared_error: 0.0021 - val_loss: 0.0011 - val_mean_squared_error: 0.0011 - 408ms/epoch - 24ms/step\n",
      "Epoch 44/100\n",
      "17/17 - 0s - loss: 0.0022 - mean_squared_error: 0.0022 - val_loss: 0.0012 - val_mean_squared_error: 0.0012 - 418ms/epoch - 25ms/step\n",
      "Epoch 45/100\n",
      "17/17 - 0s - loss: 0.0019 - mean_squared_error: 0.0019 - val_loss: 0.0013 - val_mean_squared_error: 0.0013 - 450ms/epoch - 26ms/step\n",
      "Epoch 46/100\n",
      "17/17 - 0s - loss: 0.0020 - mean_squared_error: 0.0020 - val_loss: 0.0014 - val_mean_squared_error: 0.0014 - 433ms/epoch - 25ms/step\n",
      "Epoch 47/100\n",
      "17/17 - 0s - loss: 0.0021 - mean_squared_error: 0.0021 - val_loss: 0.0016 - val_mean_squared_error: 0.0016 - 419ms/epoch - 25ms/step\n",
      "Epoch 48/100\n",
      "17/17 - 0s - loss: 0.0021 - mean_squared_error: 0.0021 - val_loss: 0.0018 - val_mean_squared_error: 0.0018 - 277ms/epoch - 16ms/step\n",
      "Epoch 49/100\n",
      "17/17 - 0s - loss: 0.0020 - mean_squared_error: 0.0020 - val_loss: 0.0016 - val_mean_squared_error: 0.0016 - 291ms/epoch - 17ms/step\n",
      "Epoch 50/100\n",
      "17/17 - 0s - loss: 0.0020 - mean_squared_error: 0.0020 - val_loss: 0.0012 - val_mean_squared_error: 0.0012 - 295ms/epoch - 17ms/step\n",
      "Epoch 51/100\n",
      "17/17 - 0s - loss: 0.0021 - mean_squared_error: 0.0021 - val_loss: 0.0018 - val_mean_squared_error: 0.0018 - 295ms/epoch - 17ms/step\n",
      "Epoch 52/100\n",
      "17/17 - 0s - loss: 0.0019 - mean_squared_error: 0.0019 - val_loss: 0.0012 - val_mean_squared_error: 0.0012 - 288ms/epoch - 17ms/step\n",
      "Epoch 53/100\n",
      "17/17 - 0s - loss: 0.0020 - mean_squared_error: 0.0020 - val_loss: 0.0018 - val_mean_squared_error: 0.0018 - 278ms/epoch - 16ms/step\n",
      "Epoch 54/100\n",
      "17/17 - 0s - loss: 0.0018 - mean_squared_error: 0.0018 - val_loss: 0.0011 - val_mean_squared_error: 0.0011 - 278ms/epoch - 16ms/step\n",
      "Epoch 55/100\n",
      "17/17 - 0s - loss: 0.0021 - mean_squared_error: 0.0021 - val_loss: 0.0015 - val_mean_squared_error: 0.0015 - 279ms/epoch - 16ms/step\n",
      "Epoch 56/100\n",
      "17/17 - 0s - loss: 0.0018 - mean_squared_error: 0.0018 - val_loss: 0.0016 - val_mean_squared_error: 0.0016 - 310ms/epoch - 18ms/step\n",
      "Epoch 57/100\n",
      "17/17 - 0s - loss: 0.0019 - mean_squared_error: 0.0019 - val_loss: 0.0015 - val_mean_squared_error: 0.0015 - 274ms/epoch - 16ms/step\n",
      "Epoch 58/100\n",
      "17/17 - 0s - loss: 0.0020 - mean_squared_error: 0.0020 - val_loss: 0.0013 - val_mean_squared_error: 0.0013 - 278ms/epoch - 16ms/step\n",
      "Epoch 59/100\n",
      "17/17 - 0s - loss: 0.0021 - mean_squared_error: 0.0021 - val_loss: 0.0014 - val_mean_squared_error: 0.0014 - 277ms/epoch - 16ms/step\n",
      "Epoch 60/100\n",
      "17/17 - 0s - loss: 0.0018 - mean_squared_error: 0.0018 - val_loss: 0.0013 - val_mean_squared_error: 0.0013 - 260ms/epoch - 15ms/step\n",
      "Epoch 61/100\n",
      "17/17 - 0s - loss: 0.0020 - mean_squared_error: 0.0020 - val_loss: 0.0019 - val_mean_squared_error: 0.0019 - 277ms/epoch - 16ms/step\n",
      "Epoch 62/100\n",
      "17/17 - 0s - loss: 0.0018 - mean_squared_error: 0.0018 - val_loss: 0.0011 - val_mean_squared_error: 0.0011 - 259ms/epoch - 15ms/step\n",
      "Epoch 63/100\n",
      "17/17 - 0s - loss: 0.0019 - mean_squared_error: 0.0019 - val_loss: 0.0028 - val_mean_squared_error: 0.0028 - 276ms/epoch - 16ms/step\n",
      "Epoch 64/100\n",
      "17/17 - 0s - loss: 0.0016 - mean_squared_error: 0.0016 - val_loss: 0.0026 - val_mean_squared_error: 0.0026 - 275ms/epoch - 16ms/step\n",
      "Epoch 65/100\n",
      "17/17 - 0s - loss: 0.0018 - mean_squared_error: 0.0018 - val_loss: 0.0022 - val_mean_squared_error: 0.0022 - 288ms/epoch - 17ms/step\n",
      "Epoch 66/100\n",
      "17/17 - 0s - loss: 0.0018 - mean_squared_error: 0.0018 - val_loss: 0.0015 - val_mean_squared_error: 0.0015 - 269ms/epoch - 16ms/step\n",
      "Epoch 67/100\n",
      "17/17 - 0s - loss: 0.0018 - mean_squared_error: 0.0018 - val_loss: 0.0011 - val_mean_squared_error: 0.0011 - 280ms/epoch - 16ms/step\n",
      "Epoch 68/100\n",
      "17/17 - 0s - loss: 0.0021 - mean_squared_error: 0.0021 - val_loss: 0.0016 - val_mean_squared_error: 0.0016 - 284ms/epoch - 17ms/step\n",
      "Epoch 69/100\n",
      "17/17 - 0s - loss: 0.0020 - mean_squared_error: 0.0020 - val_loss: 0.0015 - val_mean_squared_error: 0.0015 - 276ms/epoch - 16ms/step\n",
      "Epoch 70/100\n",
      "17/17 - 0s - loss: 0.0020 - mean_squared_error: 0.0020 - val_loss: 0.0032 - val_mean_squared_error: 0.0032 - 296ms/epoch - 17ms/step\n",
      "Epoch 71/100\n",
      "17/17 - 0s - loss: 0.0017 - mean_squared_error: 0.0017 - val_loss: 0.0022 - val_mean_squared_error: 0.0022 - 276ms/epoch - 16ms/step\n",
      "Epoch 72/100\n",
      "17/17 - 0s - loss: 0.0017 - mean_squared_error: 0.0017 - val_loss: 0.0012 - val_mean_squared_error: 0.0012 - 283ms/epoch - 17ms/step\n",
      "Epoch 73/100\n",
      "17/17 - 0s - loss: 0.0019 - mean_squared_error: 0.0019 - val_loss: 0.0012 - val_mean_squared_error: 0.0012 - 283ms/epoch - 17ms/step\n",
      "Epoch 74/100\n",
      "17/17 - 0s - loss: 0.0021 - mean_squared_error: 0.0021 - val_loss: 0.0010 - val_mean_squared_error: 0.0010 - 289ms/epoch - 17ms/step\n",
      "Epoch 75/100\n",
      "17/17 - 0s - loss: 0.0019 - mean_squared_error: 0.0019 - val_loss: 0.0010 - val_mean_squared_error: 0.0010 - 285ms/epoch - 17ms/step\n",
      "Epoch 76/100\n",
      "17/17 - 0s - loss: 0.0018 - mean_squared_error: 0.0018 - val_loss: 0.0014 - val_mean_squared_error: 0.0014 - 292ms/epoch - 17ms/step\n",
      "Epoch 77/100\n",
      "17/17 - 0s - loss: 0.0017 - mean_squared_error: 0.0017 - val_loss: 0.0022 - val_mean_squared_error: 0.0022 - 276ms/epoch - 16ms/step\n",
      "Epoch 78/100\n",
      "17/17 - 0s - loss: 0.0020 - mean_squared_error: 0.0020 - val_loss: 0.0032 - val_mean_squared_error: 0.0032 - 312ms/epoch - 18ms/step\n",
      "Epoch 79/100\n",
      "17/17 - 0s - loss: 0.0016 - mean_squared_error: 0.0016 - val_loss: 0.0031 - val_mean_squared_error: 0.0031 - 268ms/epoch - 16ms/step\n",
      "Epoch 80/100\n",
      "17/17 - 0s - loss: 0.0016 - mean_squared_error: 0.0016 - val_loss: 0.0014 - val_mean_squared_error: 0.0014 - 286ms/epoch - 17ms/step\n",
      "Epoch 81/100\n",
      "17/17 - 0s - loss: 0.0018 - mean_squared_error: 0.0018 - val_loss: 0.0026 - val_mean_squared_error: 0.0026 - 278ms/epoch - 16ms/step\n",
      "Epoch 82/100\n",
      "17/17 - 0s - loss: 0.0020 - mean_squared_error: 0.0020 - val_loss: 0.0021 - val_mean_squared_error: 0.0021 - 345ms/epoch - 20ms/step\n",
      "Epoch 83/100\n",
      "17/17 - 0s - loss: 0.0016 - mean_squared_error: 0.0016 - val_loss: 0.0023 - val_mean_squared_error: 0.0023 - 451ms/epoch - 27ms/step\n",
      "Epoch 84/100\n",
      "17/17 - 0s - loss: 0.0017 - mean_squared_error: 0.0017 - val_loss: 0.0016 - val_mean_squared_error: 0.0016 - 408ms/epoch - 24ms/step\n",
      "Epoch 85/100\n",
      "17/17 - 0s - loss: 0.0016 - mean_squared_error: 0.0016 - val_loss: 0.0022 - val_mean_squared_error: 0.0022 - 409ms/epoch - 24ms/step\n",
      "Epoch 86/100\n",
      "17/17 - 0s - loss: 0.0018 - mean_squared_error: 0.0018 - val_loss: 0.0011 - val_mean_squared_error: 0.0011 - 430ms/epoch - 25ms/step\n",
      "Epoch 87/100\n",
      "17/17 - 0s - loss: 0.0016 - mean_squared_error: 0.0016 - val_loss: 0.0012 - val_mean_squared_error: 0.0012 - 393ms/epoch - 23ms/step\n",
      "Epoch 88/100\n",
      "17/17 - 0s - loss: 0.0015 - mean_squared_error: 0.0015 - val_loss: 0.0013 - val_mean_squared_error: 0.0013 - 421ms/epoch - 25ms/step\n",
      "Epoch 89/100\n",
      "17/17 - 0s - loss: 0.0017 - mean_squared_error: 0.0017 - val_loss: 9.8552e-04 - val_mean_squared_error: 9.8552e-04 - 454ms/epoch - 27ms/step\n",
      "Epoch 90/100\n",
      "17/17 - 0s - loss: 0.0017 - mean_squared_error: 0.0017 - val_loss: 0.0010 - val_mean_squared_error: 0.0010 - 430ms/epoch - 25ms/step\n",
      "Epoch 91/100\n",
      "17/17 - 0s - loss: 0.0016 - mean_squared_error: 0.0016 - val_loss: 0.0010 - val_mean_squared_error: 0.0010 - 447ms/epoch - 26ms/step\n",
      "Epoch 92/100\n",
      "17/17 - 0s - loss: 0.0017 - mean_squared_error: 0.0017 - val_loss: 0.0021 - val_mean_squared_error: 0.0021 - 306ms/epoch - 18ms/step\n",
      "Epoch 93/100\n",
      "17/17 - 0s - loss: 0.0017 - mean_squared_error: 0.0017 - val_loss: 0.0011 - val_mean_squared_error: 0.0011 - 269ms/epoch - 16ms/step\n",
      "Epoch 94/100\n",
      "17/17 - 0s - loss: 0.0018 - mean_squared_error: 0.0018 - val_loss: 0.0025 - val_mean_squared_error: 0.0025 - 281ms/epoch - 17ms/step\n",
      "Epoch 95/100\n",
      "17/17 - 0s - loss: 0.0018 - mean_squared_error: 0.0018 - val_loss: 0.0018 - val_mean_squared_error: 0.0018 - 265ms/epoch - 16ms/step\n",
      "Epoch 96/100\n",
      "17/17 - 0s - loss: 0.0017 - mean_squared_error: 0.0017 - val_loss: 0.0013 - val_mean_squared_error: 0.0013 - 274ms/epoch - 16ms/step\n",
      "Epoch 97/100\n",
      "17/17 - 0s - loss: 0.0017 - mean_squared_error: 0.0017 - val_loss: 0.0021 - val_mean_squared_error: 0.0021 - 287ms/epoch - 17ms/step\n",
      "Epoch 98/100\n",
      "17/17 - 0s - loss: 0.0017 - mean_squared_error: 0.0017 - val_loss: 0.0011 - val_mean_squared_error: 0.0011 - 310ms/epoch - 18ms/step\n",
      "Epoch 99/100\n",
      "17/17 - 0s - loss: 0.0017 - mean_squared_error: 0.0017 - val_loss: 0.0010 - val_mean_squared_error: 0.0010 - 290ms/epoch - 17ms/step\n",
      "Epoch 100/100\n",
      "17/17 - 0s - loss: 0.0017 - mean_squared_error: 0.0017 - val_loss: 0.0012 - val_mean_squared_error: 0.0012 - 261ms/epoch - 15ms/step\n"
     ]
    }
   ],
   "source": [
    "model=Sequential()\n",
    "model.add(LSTM(256, input_shape=(X_train.shape[1],1)))\n",
    "model.add(Dropout(0.2))\n",
    "model.add(Dense(64, activation = 'relu'))\n",
    "model.add(Dropout(0.2))\n",
    "model.add(Dense(32))\n",
    "model.add(Dropout(0.2))\n",
    "model.add(Dense(1))\n",
    "model.compile(loss='mean_squared_error', optimizer='adam',metrics = ['mean_squared_error'])\n",
    "model.summary()\n",
    "history = model.fit(X_train, y_train, epochs=100 , batch_size = 50,verbose=2, validation_data = (X_val,Y_val))   \n",
    "#model.fit(X_train, y_train, epochs=50, batch_size=50, verbose=2)"
   ]
  },
  {
   "cell_type": "code",
   "execution_count": null,
   "metadata": {
    "colab": {
     "base_uri": "https://localhost:8080/"
    },
    "executionInfo": {
     "elapsed": 991,
     "status": "ok",
     "timestamp": 1677791035707,
     "user": {
      "displayName": "Adekunjo Moshood",
      "userId": "07268946589538442356"
     },
     "user_tz": -60
    },
    "id": "jqXNrirqCwfK",
    "outputId": "350b23bb-cbae-445b-c2b3-43a885049b4c"
   },
   "outputs": [
    {
     "name": "stdout",
     "output_type": "stream",
     "text": [
      "26/26 [==============================] - 1s 8ms/step\n",
      "7/7 [==============================] - 0s 8ms/step\n",
      "Train rmse: 0.02468832244770847\n",
      "Validation mse: 0.001164556938639356\n",
      "Validation rmse: 0.03412560532268045\n"
     ]
    }
   ],
   "source": [
    "\n",
    "\n",
    "lstm_train_pred = model.predict(X_train)\n",
    "lstm_valid_pred = model.predict(X_val)\n",
    "print('Train rmse:', np.sqrt(mean_squared_error(y_train, lstm_train_pred)))\n",
    "print('Validation mse:', mean_squared_error(Y_val, lstm_valid_pred))\n",
    "print('Validation rmse:', np.sqrt(mean_squared_error(Y_val, lstm_valid_pred)))"
   ]
  },
  {
   "cell_type": "code",
   "execution_count": null,
   "metadata": {
    "colab": {
     "base_uri": "https://localhost:8080/"
    },
    "executionInfo": {
     "elapsed": 10,
     "status": "ok",
     "timestamp": 1677790657555,
     "user": {
      "displayName": "Adekunjo Moshood",
      "userId": "07268946589538442356"
     },
     "user_tz": -60
    },
    "id": "K1l7_oOmHXEW",
    "outputId": "3e270536-38ef-498f-bb7e-6c8dd750e732"
   },
   "outputs": [
    {
     "data": {
      "text/plain": [
       "(197, 1)"
      ]
     },
     "execution_count": 42,
     "metadata": {},
     "output_type": "execute_result"
    }
   ],
   "source": [
    "lstm_valid_pred.shape"
   ]
  },
  {
   "cell_type": "markdown",
   "metadata": {
    "id": "3fWGL7j0YfDC"
   },
   "source": [
    "# GRU"
   ]
  },
  {
   "cell_type": "code",
   "execution_count": null,
   "metadata": {
    "colab": {
     "base_uri": "https://localhost:8080/"
    },
    "executionInfo": {
     "elapsed": 555,
     "status": "ok",
     "timestamp": 1677790743487,
     "user": {
      "displayName": "Adekunjo Moshood",
      "userId": "07268946589538442356"
     },
     "user_tz": -60
    },
    "id": "iEXJZZm3e96E",
    "outputId": "2d126291-01e7-4072-a0e5-4f0fdd363c43"
   },
   "outputs": [
    {
     "name": "stdout",
     "output_type": "stream",
     "text": [
      "Model: \"sequential_2\"\n",
      "_________________________________________________________________\n",
      " Layer (type)                Output Shape              Param #   \n",
      "=================================================================\n",
      " gru_1 (GRU)                 (None, 256)               198912    \n",
      "                                                                 \n",
      " dropout_6 (Dropout)         (None, 256)               0         \n",
      "                                                                 \n",
      " dense_6 (Dense)             (None, 64)                16448     \n",
      "                                                                 \n",
      " dropout_7 (Dropout)         (None, 64)                0         \n",
      "                                                                 \n",
      " dense_7 (Dense)             (None, 32)                2080      \n",
      "                                                                 \n",
      " dropout_8 (Dropout)         (None, 32)                0         \n",
      "                                                                 \n",
      " dense_8 (Dense)             (None, 1)                 33        \n",
      "                                                                 \n",
      "=================================================================\n",
      "Total params: 217,473\n",
      "Trainable params: 217,473\n",
      "Non-trainable params: 0\n",
      "_________________________________________________________________\n",
      "None\n"
     ]
    }
   ],
   "source": [
    "model = Sequential()\n",
    "\n",
    "model.add(GRU(256 , input_shape=(X_train.shape[1],1)))\n",
    "\n",
    "model.add(Dropout(0.4))\n",
    "model.add(Dense(64 ,  activation = 'relu'))\n",
    "model.add(Dropout(0.4))\n",
    "model.add(Dense(32))\n",
    "model.add(Dropout(0.4)) \n",
    "model.add(Dense(1))\n",
    "print(model.summary())"
   ]
  },
  {
   "cell_type": "code",
   "execution_count": null,
   "metadata": {
    "id": "LRPg2DO9j1PU"
   },
   "outputs": [],
   "source": []
  },
  {
   "cell_type": "code",
   "execution_count": null,
   "metadata": {
    "colab": {
     "base_uri": "https://localhost:8080/"
    },
    "executionInfo": {
     "elapsed": 358,
     "status": "ok",
     "timestamp": 1677790775857,
     "user": {
      "displayName": "Adekunjo Moshood",
      "userId": "07268946589538442356"
     },
     "user_tz": -60
    },
    "id": "byg2IDdXhvdS",
    "outputId": "63a6a697-5f0a-47ae-e744-30b13661e4b2"
   },
   "outputs": [
    {
     "name": "stderr",
     "output_type": "stream",
     "text": [
      "/usr/local/lib/python3.8/dist-packages/keras/optimizers/optimizer_v2/adam.py:117: UserWarning: The `lr` argument is deprecated, use `learning_rate` instead.\n",
      "  super().__init__(name, **kwargs)\n"
     ]
    }
   ],
   "source": [
    "model.compile(loss='mean_squared_error', optimizer=Adam(lr = 0.0005) , metrics = ['mean_squared_error'])"
   ]
  },
  {
   "cell_type": "code",
   "execution_count": null,
   "metadata": {
    "colab": {
     "base_uri": "https://localhost:8080/"
    },
    "executionInfo": {
     "elapsed": 37716,
     "status": "ok",
     "timestamp": 1677790813917,
     "user": {
      "displayName": "Adekunjo Moshood",
      "userId": "07268946589538442356"
     },
     "user_tz": -60
    },
    "id": "17ko4zw1iJhy",
    "outputId": "7431c786-bdcf-476d-f1de-fc09930c66e9"
   },
   "outputs": [
    {
     "name": "stdout",
     "output_type": "stream",
     "text": [
      "Epoch 1/100\n",
      "17/17 - 4s - loss: 0.0649 - mean_squared_error: 0.0649 - val_loss: 0.0197 - val_mean_squared_error: 0.0197 - 4s/epoch - 231ms/step\n",
      "Epoch 2/100\n",
      "17/17 - 0s - loss: 0.0211 - mean_squared_error: 0.0211 - val_loss: 0.0462 - val_mean_squared_error: 0.0462 - 230ms/epoch - 14ms/step\n",
      "Epoch 3/100\n",
      "17/17 - 0s - loss: 0.0143 - mean_squared_error: 0.0143 - val_loss: 0.0082 - val_mean_squared_error: 0.0082 - 236ms/epoch - 14ms/step\n",
      "Epoch 4/100\n",
      "17/17 - 0s - loss: 0.0123 - mean_squared_error: 0.0123 - val_loss: 0.0063 - val_mean_squared_error: 0.0063 - 227ms/epoch - 13ms/step\n",
      "Epoch 5/100\n",
      "17/17 - 0s - loss: 0.0109 - mean_squared_error: 0.0109 - val_loss: 0.0015 - val_mean_squared_error: 0.0015 - 234ms/epoch - 14ms/step\n",
      "Epoch 6/100\n",
      "17/17 - 0s - loss: 0.0092 - mean_squared_error: 0.0092 - val_loss: 0.0050 - val_mean_squared_error: 0.0050 - 229ms/epoch - 13ms/step\n",
      "Epoch 7/100\n",
      "17/17 - 0s - loss: 0.0097 - mean_squared_error: 0.0097 - val_loss: 0.0053 - val_mean_squared_error: 0.0053 - 232ms/epoch - 14ms/step\n",
      "Epoch 8/100\n",
      "17/17 - 0s - loss: 0.0093 - mean_squared_error: 0.0093 - val_loss: 0.0028 - val_mean_squared_error: 0.0028 - 232ms/epoch - 14ms/step\n",
      "Epoch 9/100\n",
      "17/17 - 0s - loss: 0.0080 - mean_squared_error: 0.0080 - val_loss: 0.0013 - val_mean_squared_error: 0.0013 - 224ms/epoch - 13ms/step\n",
      "Epoch 10/100\n",
      "17/17 - 0s - loss: 0.0084 - mean_squared_error: 0.0084 - val_loss: 0.0014 - val_mean_squared_error: 0.0014 - 227ms/epoch - 13ms/step\n",
      "Epoch 11/100\n",
      "17/17 - 0s - loss: 0.0076 - mean_squared_error: 0.0076 - val_loss: 0.0058 - val_mean_squared_error: 0.0058 - 261ms/epoch - 15ms/step\n",
      "Epoch 12/100\n",
      "17/17 - 0s - loss: 0.0072 - mean_squared_error: 0.0072 - val_loss: 0.0028 - val_mean_squared_error: 0.0028 - 227ms/epoch - 13ms/step\n",
      "Epoch 13/100\n",
      "17/17 - 0s - loss: 0.0069 - mean_squared_error: 0.0069 - val_loss: 0.0011 - val_mean_squared_error: 0.0011 - 268ms/epoch - 16ms/step\n",
      "Epoch 14/100\n",
      "17/17 - 0s - loss: 0.0064 - mean_squared_error: 0.0064 - val_loss: 0.0023 - val_mean_squared_error: 0.0023 - 385ms/epoch - 23ms/step\n",
      "Epoch 15/100\n",
      "17/17 - 0s - loss: 0.0058 - mean_squared_error: 0.0058 - val_loss: 0.0012 - val_mean_squared_error: 0.0012 - 405ms/epoch - 24ms/step\n",
      "Epoch 16/100\n",
      "17/17 - 0s - loss: 0.0071 - mean_squared_error: 0.0071 - val_loss: 0.0038 - val_mean_squared_error: 0.0038 - 399ms/epoch - 23ms/step\n",
      "Epoch 17/100\n",
      "17/17 - 0s - loss: 0.0059 - mean_squared_error: 0.0059 - val_loss: 0.0022 - val_mean_squared_error: 0.0022 - 381ms/epoch - 22ms/step\n",
      "Epoch 18/100\n",
      "17/17 - 0s - loss: 0.0069 - mean_squared_error: 0.0069 - val_loss: 0.0031 - val_mean_squared_error: 0.0031 - 434ms/epoch - 26ms/step\n",
      "Epoch 19/100\n",
      "17/17 - 0s - loss: 0.0058 - mean_squared_error: 0.0058 - val_loss: 0.0045 - val_mean_squared_error: 0.0045 - 411ms/epoch - 24ms/step\n",
      "Epoch 20/100\n",
      "17/17 - 1s - loss: 0.0054 - mean_squared_error: 0.0054 - val_loss: 0.0038 - val_mean_squared_error: 0.0038 - 576ms/epoch - 34ms/step\n",
      "Epoch 21/100\n",
      "17/17 - 1s - loss: 0.0061 - mean_squared_error: 0.0061 - val_loss: 0.0026 - val_mean_squared_error: 0.0026 - 593ms/epoch - 35ms/step\n",
      "Epoch 22/100\n",
      "17/17 - 0s - loss: 0.0055 - mean_squared_error: 0.0055 - val_loss: 0.0044 - val_mean_squared_error: 0.0044 - 440ms/epoch - 26ms/step\n",
      "Epoch 23/100\n",
      "17/17 - 0s - loss: 0.0053 - mean_squared_error: 0.0053 - val_loss: 0.0020 - val_mean_squared_error: 0.0020 - 343ms/epoch - 20ms/step\n",
      "Epoch 24/100\n",
      "17/17 - 0s - loss: 0.0056 - mean_squared_error: 0.0056 - val_loss: 0.0019 - val_mean_squared_error: 0.0019 - 274ms/epoch - 16ms/step\n",
      "Epoch 25/100\n",
      "17/17 - 0s - loss: 0.0052 - mean_squared_error: 0.0052 - val_loss: 0.0019 - val_mean_squared_error: 0.0019 - 241ms/epoch - 14ms/step\n",
      "Epoch 26/100\n",
      "17/17 - 0s - loss: 0.0056 - mean_squared_error: 0.0056 - val_loss: 0.0012 - val_mean_squared_error: 0.0012 - 236ms/epoch - 14ms/step\n",
      "Epoch 27/100\n",
      "17/17 - 0s - loss: 0.0048 - mean_squared_error: 0.0048 - val_loss: 0.0036 - val_mean_squared_error: 0.0036 - 241ms/epoch - 14ms/step\n",
      "Epoch 28/100\n",
      "17/17 - 0s - loss: 0.0052 - mean_squared_error: 0.0052 - val_loss: 0.0028 - val_mean_squared_error: 0.0028 - 380ms/epoch - 22ms/step\n",
      "Epoch 29/100\n",
      "17/17 - 0s - loss: 0.0048 - mean_squared_error: 0.0048 - val_loss: 0.0040 - val_mean_squared_error: 0.0040 - 375ms/epoch - 22ms/step\n",
      "Epoch 30/100\n",
      "17/17 - 0s - loss: 0.0053 - mean_squared_error: 0.0053 - val_loss: 0.0019 - val_mean_squared_error: 0.0019 - 367ms/epoch - 22ms/step\n",
      "Epoch 31/100\n",
      "17/17 - 0s - loss: 0.0043 - mean_squared_error: 0.0043 - val_loss: 0.0022 - val_mean_squared_error: 0.0022 - 438ms/epoch - 26ms/step\n",
      "Epoch 32/100\n",
      "17/17 - 0s - loss: 0.0049 - mean_squared_error: 0.0049 - val_loss: 0.0010 - val_mean_squared_error: 0.0010 - 369ms/epoch - 22ms/step\n",
      "Epoch 33/100\n",
      "17/17 - 0s - loss: 0.0050 - mean_squared_error: 0.0050 - val_loss: 0.0026 - val_mean_squared_error: 0.0026 - 406ms/epoch - 24ms/step\n",
      "Epoch 34/100\n",
      "17/17 - 0s - loss: 0.0049 - mean_squared_error: 0.0049 - val_loss: 0.0012 - val_mean_squared_error: 0.0012 - 445ms/epoch - 26ms/step\n",
      "Epoch 35/100\n",
      "17/17 - 0s - loss: 0.0047 - mean_squared_error: 0.0047 - val_loss: 0.0033 - val_mean_squared_error: 0.0033 - 394ms/epoch - 23ms/step\n",
      "Epoch 36/100\n",
      "17/17 - 0s - loss: 0.0046 - mean_squared_error: 0.0046 - val_loss: 0.0010 - val_mean_squared_error: 0.0010 - 419ms/epoch - 25ms/step\n",
      "Epoch 37/100\n",
      "17/17 - 0s - loss: 0.0043 - mean_squared_error: 0.0043 - val_loss: 0.0018 - val_mean_squared_error: 0.0018 - 416ms/epoch - 24ms/step\n",
      "Epoch 38/100\n",
      "17/17 - 0s - loss: 0.0047 - mean_squared_error: 0.0047 - val_loss: 0.0037 - val_mean_squared_error: 0.0037 - 474ms/epoch - 28ms/step\n",
      "Epoch 39/100\n",
      "17/17 - 0s - loss: 0.0043 - mean_squared_error: 0.0043 - val_loss: 9.9789e-04 - val_mean_squared_error: 9.9789e-04 - 419ms/epoch - 25ms/step\n",
      "Epoch 40/100\n",
      "17/17 - 0s - loss: 0.0048 - mean_squared_error: 0.0048 - val_loss: 0.0020 - val_mean_squared_error: 0.0020 - 229ms/epoch - 13ms/step\n",
      "Epoch 41/100\n",
      "17/17 - 0s - loss: 0.0043 - mean_squared_error: 0.0043 - val_loss: 0.0012 - val_mean_squared_error: 0.0012 - 274ms/epoch - 16ms/step\n",
      "Epoch 42/100\n",
      "17/17 - 0s - loss: 0.0044 - mean_squared_error: 0.0044 - val_loss: 0.0032 - val_mean_squared_error: 0.0032 - 246ms/epoch - 14ms/step\n",
      "Epoch 43/100\n",
      "17/17 - 0s - loss: 0.0044 - mean_squared_error: 0.0044 - val_loss: 0.0026 - val_mean_squared_error: 0.0026 - 239ms/epoch - 14ms/step\n",
      "Epoch 44/100\n",
      "17/17 - 0s - loss: 0.0042 - mean_squared_error: 0.0042 - val_loss: 0.0031 - val_mean_squared_error: 0.0031 - 231ms/epoch - 14ms/step\n",
      "Epoch 45/100\n",
      "17/17 - 0s - loss: 0.0042 - mean_squared_error: 0.0042 - val_loss: 0.0027 - val_mean_squared_error: 0.0027 - 296ms/epoch - 17ms/step\n",
      "Epoch 46/100\n",
      "17/17 - 0s - loss: 0.0041 - mean_squared_error: 0.0041 - val_loss: 0.0024 - val_mean_squared_error: 0.0024 - 451ms/epoch - 27ms/step\n",
      "Epoch 47/100\n",
      "17/17 - 1s - loss: 0.0041 - mean_squared_error: 0.0041 - val_loss: 0.0020 - val_mean_squared_error: 0.0020 - 563ms/epoch - 33ms/step\n",
      "Epoch 48/100\n",
      "17/17 - 0s - loss: 0.0046 - mean_squared_error: 0.0046 - val_loss: 0.0017 - val_mean_squared_error: 0.0017 - 364ms/epoch - 21ms/step\n",
      "Epoch 49/100\n",
      "17/17 - 0s - loss: 0.0047 - mean_squared_error: 0.0047 - val_loss: 0.0013 - val_mean_squared_error: 0.0013 - 236ms/epoch - 14ms/step\n",
      "Epoch 50/100\n",
      "17/17 - 0s - loss: 0.0041 - mean_squared_error: 0.0041 - val_loss: 0.0014 - val_mean_squared_error: 0.0014 - 212ms/epoch - 12ms/step\n",
      "Epoch 51/100\n",
      "17/17 - 0s - loss: 0.0044 - mean_squared_error: 0.0044 - val_loss: 0.0013 - val_mean_squared_error: 0.0013 - 224ms/epoch - 13ms/step\n",
      "Epoch 52/100\n",
      "17/17 - 0s - loss: 0.0040 - mean_squared_error: 0.0040 - val_loss: 0.0031 - val_mean_squared_error: 0.0031 - 240ms/epoch - 14ms/step\n",
      "Epoch 53/100\n",
      "17/17 - 0s - loss: 0.0039 - mean_squared_error: 0.0039 - val_loss: 0.0015 - val_mean_squared_error: 0.0015 - 448ms/epoch - 26ms/step\n",
      "Epoch 54/100\n",
      "17/17 - 1s - loss: 0.0044 - mean_squared_error: 0.0044 - val_loss: 0.0016 - val_mean_squared_error: 0.0016 - 509ms/epoch - 30ms/step\n",
      "Epoch 55/100\n",
      "17/17 - 1s - loss: 0.0041 - mean_squared_error: 0.0041 - val_loss: 0.0033 - val_mean_squared_error: 0.0033 - 510ms/epoch - 30ms/step\n",
      "Epoch 56/100\n",
      "17/17 - 1s - loss: 0.0042 - mean_squared_error: 0.0042 - val_loss: 0.0016 - val_mean_squared_error: 0.0016 - 828ms/epoch - 49ms/step\n",
      "Epoch 57/100\n",
      "17/17 - 1s - loss: 0.0039 - mean_squared_error: 0.0039 - val_loss: 0.0018 - val_mean_squared_error: 0.0018 - 1s/epoch - 59ms/step\n",
      "Epoch 58/100\n",
      "17/17 - 1s - loss: 0.0041 - mean_squared_error: 0.0041 - val_loss: 0.0027 - val_mean_squared_error: 0.0027 - 588ms/epoch - 35ms/step\n",
      "Epoch 59/100\n",
      "17/17 - 1s - loss: 0.0036 - mean_squared_error: 0.0036 - val_loss: 0.0012 - val_mean_squared_error: 0.0012 - 762ms/epoch - 45ms/step\n",
      "Epoch 60/100\n",
      "17/17 - 0s - loss: 0.0039 - mean_squared_error: 0.0039 - val_loss: 0.0025 - val_mean_squared_error: 0.0025 - 466ms/epoch - 27ms/step\n",
      "Epoch 61/100\n",
      "17/17 - 0s - loss: 0.0042 - mean_squared_error: 0.0042 - val_loss: 0.0021 - val_mean_squared_error: 0.0021 - 437ms/epoch - 26ms/step\n",
      "Epoch 62/100\n",
      "17/17 - 0s - loss: 0.0040 - mean_squared_error: 0.0040 - val_loss: 9.7100e-04 - val_mean_squared_error: 9.7100e-04 - 326ms/epoch - 19ms/step\n",
      "Epoch 63/100\n",
      "17/17 - 0s - loss: 0.0042 - mean_squared_error: 0.0042 - val_loss: 0.0018 - val_mean_squared_error: 0.0018 - 355ms/epoch - 21ms/step\n",
      "Epoch 64/100\n",
      "17/17 - 0s - loss: 0.0038 - mean_squared_error: 0.0038 - val_loss: 0.0014 - val_mean_squared_error: 0.0014 - 262ms/epoch - 15ms/step\n",
      "Epoch 65/100\n",
      "17/17 - 0s - loss: 0.0038 - mean_squared_error: 0.0038 - val_loss: 0.0026 - val_mean_squared_error: 0.0026 - 263ms/epoch - 15ms/step\n",
      "Epoch 66/100\n",
      "17/17 - 0s - loss: 0.0034 - mean_squared_error: 0.0034 - val_loss: 0.0013 - val_mean_squared_error: 0.0013 - 473ms/epoch - 28ms/step\n",
      "Epoch 67/100\n",
      "17/17 - 0s - loss: 0.0039 - mean_squared_error: 0.0039 - val_loss: 0.0015 - val_mean_squared_error: 0.0015 - 431ms/epoch - 25ms/step\n",
      "Epoch 68/100\n",
      "17/17 - 0s - loss: 0.0036 - mean_squared_error: 0.0036 - val_loss: 0.0013 - val_mean_squared_error: 0.0013 - 240ms/epoch - 14ms/step\n",
      "Epoch 69/100\n",
      "17/17 - 0s - loss: 0.0037 - mean_squared_error: 0.0037 - val_loss: 0.0058 - val_mean_squared_error: 0.0058 - 244ms/epoch - 14ms/step\n",
      "Epoch 70/100\n",
      "17/17 - 0s - loss: 0.0038 - mean_squared_error: 0.0038 - val_loss: 0.0012 - val_mean_squared_error: 0.0012 - 238ms/epoch - 14ms/step\n",
      "Epoch 71/100\n",
      "17/17 - 0s - loss: 0.0037 - mean_squared_error: 0.0037 - val_loss: 0.0031 - val_mean_squared_error: 0.0031 - 231ms/epoch - 14ms/step\n",
      "Epoch 72/100\n",
      "17/17 - 0s - loss: 0.0038 - mean_squared_error: 0.0038 - val_loss: 0.0014 - val_mean_squared_error: 0.0014 - 229ms/epoch - 13ms/step\n",
      "Epoch 73/100\n",
      "17/17 - 0s - loss: 0.0036 - mean_squared_error: 0.0036 - val_loss: 0.0014 - val_mean_squared_error: 0.0014 - 241ms/epoch - 14ms/step\n",
      "Epoch 74/100\n",
      "17/17 - 0s - loss: 0.0038 - mean_squared_error: 0.0038 - val_loss: 0.0014 - val_mean_squared_error: 0.0014 - 238ms/epoch - 14ms/step\n",
      "Epoch 75/100\n",
      "17/17 - 0s - loss: 0.0037 - mean_squared_error: 0.0037 - val_loss: 0.0013 - val_mean_squared_error: 0.0013 - 224ms/epoch - 13ms/step\n",
      "Epoch 76/100\n",
      "17/17 - 0s - loss: 0.0037 - mean_squared_error: 0.0037 - val_loss: 0.0033 - val_mean_squared_error: 0.0033 - 241ms/epoch - 14ms/step\n",
      "Epoch 77/100\n",
      "17/17 - 0s - loss: 0.0031 - mean_squared_error: 0.0031 - val_loss: 0.0014 - val_mean_squared_error: 0.0014 - 249ms/epoch - 15ms/step\n",
      "Epoch 78/100\n",
      "17/17 - 0s - loss: 0.0035 - mean_squared_error: 0.0035 - val_loss: 0.0025 - val_mean_squared_error: 0.0025 - 232ms/epoch - 14ms/step\n",
      "Epoch 79/100\n",
      "17/17 - 0s - loss: 0.0034 - mean_squared_error: 0.0034 - val_loss: 0.0026 - val_mean_squared_error: 0.0026 - 228ms/epoch - 13ms/step\n",
      "Epoch 80/100\n",
      "17/17 - 0s - loss: 0.0040 - mean_squared_error: 0.0040 - val_loss: 0.0026 - val_mean_squared_error: 0.0026 - 222ms/epoch - 13ms/step\n",
      "Epoch 81/100\n",
      "17/17 - 0s - loss: 0.0035 - mean_squared_error: 0.0035 - val_loss: 0.0022 - val_mean_squared_error: 0.0022 - 232ms/epoch - 14ms/step\n",
      "Epoch 82/100\n",
      "17/17 - 0s - loss: 0.0036 - mean_squared_error: 0.0036 - val_loss: 0.0018 - val_mean_squared_error: 0.0018 - 245ms/epoch - 14ms/step\n",
      "Epoch 83/100\n",
      "17/17 - 0s - loss: 0.0033 - mean_squared_error: 0.0033 - val_loss: 0.0022 - val_mean_squared_error: 0.0022 - 234ms/epoch - 14ms/step\n",
      "Epoch 84/100\n",
      "17/17 - 0s - loss: 0.0034 - mean_squared_error: 0.0034 - val_loss: 0.0016 - val_mean_squared_error: 0.0016 - 228ms/epoch - 13ms/step\n",
      "Epoch 85/100\n",
      "17/17 - 0s - loss: 0.0038 - mean_squared_error: 0.0038 - val_loss: 0.0010 - val_mean_squared_error: 0.0010 - 239ms/epoch - 14ms/step\n",
      "Epoch 86/100\n",
      "17/17 - 0s - loss: 0.0034 - mean_squared_error: 0.0034 - val_loss: 0.0013 - val_mean_squared_error: 0.0013 - 242ms/epoch - 14ms/step\n",
      "Epoch 87/100\n",
      "17/17 - 0s - loss: 0.0033 - mean_squared_error: 0.0033 - val_loss: 9.7875e-04 - val_mean_squared_error: 9.7875e-04 - 241ms/epoch - 14ms/step\n",
      "Epoch 88/100\n",
      "17/17 - 0s - loss: 0.0035 - mean_squared_error: 0.0035 - val_loss: 0.0035 - val_mean_squared_error: 0.0035 - 233ms/epoch - 14ms/step\n",
      "Epoch 89/100\n",
      "17/17 - 0s - loss: 0.0040 - mean_squared_error: 0.0040 - val_loss: 0.0024 - val_mean_squared_error: 0.0024 - 235ms/epoch - 14ms/step\n",
      "Epoch 90/100\n",
      "17/17 - 0s - loss: 0.0035 - mean_squared_error: 0.0035 - val_loss: 0.0058 - val_mean_squared_error: 0.0058 - 238ms/epoch - 14ms/step\n",
      "Epoch 91/100\n",
      "17/17 - 0s - loss: 0.0034 - mean_squared_error: 0.0034 - val_loss: 0.0023 - val_mean_squared_error: 0.0023 - 229ms/epoch - 13ms/step\n",
      "Epoch 92/100\n",
      "17/17 - 0s - loss: 0.0036 - mean_squared_error: 0.0036 - val_loss: 0.0031 - val_mean_squared_error: 0.0031 - 234ms/epoch - 14ms/step\n",
      "Epoch 93/100\n",
      "17/17 - 0s - loss: 0.0032 - mean_squared_error: 0.0032 - val_loss: 0.0018 - val_mean_squared_error: 0.0018 - 225ms/epoch - 13ms/step\n",
      "Epoch 94/100\n",
      "17/17 - 0s - loss: 0.0029 - mean_squared_error: 0.0029 - val_loss: 0.0012 - val_mean_squared_error: 0.0012 - 234ms/epoch - 14ms/step\n",
      "Epoch 95/100\n",
      "17/17 - 0s - loss: 0.0033 - mean_squared_error: 0.0033 - val_loss: 0.0019 - val_mean_squared_error: 0.0019 - 223ms/epoch - 13ms/step\n",
      "Epoch 96/100\n",
      "17/17 - 0s - loss: 0.0033 - mean_squared_error: 0.0033 - val_loss: 0.0025 - val_mean_squared_error: 0.0025 - 242ms/epoch - 14ms/step\n",
      "Epoch 97/100\n",
      "17/17 - 0s - loss: 0.0032 - mean_squared_error: 0.0032 - val_loss: 0.0033 - val_mean_squared_error: 0.0033 - 379ms/epoch - 22ms/step\n",
      "Epoch 98/100\n",
      "17/17 - 0s - loss: 0.0037 - mean_squared_error: 0.0037 - val_loss: 0.0016 - val_mean_squared_error: 0.0016 - 415ms/epoch - 24ms/step\n",
      "Epoch 99/100\n",
      "17/17 - 0s - loss: 0.0030 - mean_squared_error: 0.0030 - val_loss: 0.0021 - val_mean_squared_error: 0.0021 - 388ms/epoch - 23ms/step\n",
      "Epoch 100/100\n",
      "17/17 - 0s - loss: 0.0032 - mean_squared_error: 0.0032 - val_loss: 0.0021 - val_mean_squared_error: 0.0021 - 421ms/epoch - 25ms/step\n"
     ]
    }
   ],
   "source": [
    "history = model.fit(X_train, y_train, epochs=100 , batch_size = 50,verbose=2, validation_data = (X_val,Y_val))   "
   ]
  },
  {
   "cell_type": "code",
   "execution_count": null,
   "metadata": {
    "colab": {
     "base_uri": "https://localhost:8080/"
    },
    "executionInfo": {
     "elapsed": 1430,
     "status": "ok",
     "timestamp": 1677790824910,
     "user": {
      "displayName": "Adekunjo Moshood",
      "userId": "07268946589538442356"
     },
     "user_tz": -60
    },
    "id": "ZcFPcbaUDxwi",
    "outputId": "8193926c-330a-4e51-d0c1-176a64414344"
   },
   "outputs": [
    {
     "name": "stdout",
     "output_type": "stream",
     "text": [
      "26/26 [==============================] - 1s 4ms/step\n",
      "7/7 [==============================] - 0s 4ms/step\n",
      "Validation mse: 0.0021117438300155738\n",
      "Validation rmse: 0.04595371399588475\n"
     ]
    }
   ],
   "source": [
    "\n",
    "gru_train_pred = model.predict(X_train)\n",
    "gru_valid_pred = model.predict(X_val)\n",
    "print('Validation mse:', mean_squared_error(Y_val, gru_valid_pred))\n",
    "print('Validation rmse:', np.sqrt(mean_squared_error(Y_val, gru_valid_pred)))"
   ]
  },
  {
   "cell_type": "code",
   "execution_count": null,
   "metadata": {
    "id": "rWlOaWCYOxbu"
   },
   "outputs": [],
   "source": []
  },
  {
   "cell_type": "markdown",
   "metadata": {
    "id": "YkiHeZvmY0_L"
   },
   "source": [
    "## **CNN**"
   ]
  },
  {
   "cell_type": "code",
   "execution_count": 93,
   "metadata": {
    "colab": {
     "base_uri": "https://localhost:8080/"
    },
    "executionInfo": {
     "elapsed": 23644,
     "status": "ok",
     "timestamp": 1677792766169,
     "user": {
      "displayName": "Adekunjo Moshood",
      "userId": "07268946589538442356"
     },
     "user_tz": -60
    },
    "id": "FMvCeW8d50kx",
    "outputId": "338c0525-0445-46c5-ca71-9775ede647ad"
   },
   "outputs": [
    {
     "name": "stdout",
     "output_type": "stream",
     "text": [
      "Epoch 1/100\n",
      "26/26 - 3s - loss: 0.0272 - mean_squared_error: 0.0272 - val_loss: 0.0011 - val_mean_squared_error: 0.0011 - 3s/epoch - 122ms/step\n",
      "Epoch 2/100\n",
      "26/26 - 0s - loss: 0.0098 - mean_squared_error: 0.0098 - val_loss: 0.0011 - val_mean_squared_error: 0.0011 - 254ms/epoch - 10ms/step\n",
      "Epoch 3/100\n",
      "26/26 - 0s - loss: 0.0083 - mean_squared_error: 0.0083 - val_loss: 0.0024 - val_mean_squared_error: 0.0024 - 212ms/epoch - 8ms/step\n",
      "Epoch 4/100\n",
      "26/26 - 0s - loss: 0.0084 - mean_squared_error: 0.0084 - val_loss: 0.0043 - val_mean_squared_error: 0.0043 - 254ms/epoch - 10ms/step\n",
      "Epoch 5/100\n",
      "26/26 - 0s - loss: 0.0062 - mean_squared_error: 0.0062 - val_loss: 0.0034 - val_mean_squared_error: 0.0034 - 158ms/epoch - 6ms/step\n",
      "Epoch 6/100\n",
      "26/26 - 0s - loss: 0.0045 - mean_squared_error: 0.0045 - val_loss: 0.0018 - val_mean_squared_error: 0.0018 - 154ms/epoch - 6ms/step\n",
      "Epoch 7/100\n",
      "26/26 - 0s - loss: 0.0045 - mean_squared_error: 0.0045 - val_loss: 0.0029 - val_mean_squared_error: 0.0029 - 147ms/epoch - 6ms/step\n",
      "Epoch 8/100\n",
      "26/26 - 0s - loss: 0.0047 - mean_squared_error: 0.0047 - val_loss: 0.0014 - val_mean_squared_error: 0.0014 - 137ms/epoch - 5ms/step\n",
      "Epoch 9/100\n",
      "26/26 - 0s - loss: 0.0036 - mean_squared_error: 0.0036 - val_loss: 0.0011 - val_mean_squared_error: 0.0011 - 147ms/epoch - 6ms/step\n",
      "Epoch 10/100\n",
      "26/26 - 0s - loss: 0.0034 - mean_squared_error: 0.0034 - val_loss: 0.0010 - val_mean_squared_error: 0.0010 - 151ms/epoch - 6ms/step\n",
      "Epoch 11/100\n",
      "26/26 - 0s - loss: 0.0035 - mean_squared_error: 0.0035 - val_loss: 0.0012 - val_mean_squared_error: 0.0012 - 156ms/epoch - 6ms/step\n",
      "Epoch 12/100\n",
      "26/26 - 0s - loss: 0.0033 - mean_squared_error: 0.0033 - val_loss: 0.0041 - val_mean_squared_error: 0.0041 - 164ms/epoch - 6ms/step\n",
      "Epoch 13/100\n",
      "26/26 - 0s - loss: 0.0034 - mean_squared_error: 0.0034 - val_loss: 0.0019 - val_mean_squared_error: 0.0019 - 151ms/epoch - 6ms/step\n",
      "Epoch 14/100\n",
      "26/26 - 0s - loss: 0.0035 - mean_squared_error: 0.0035 - val_loss: 0.0011 - val_mean_squared_error: 0.0011 - 143ms/epoch - 6ms/step\n",
      "Epoch 15/100\n",
      "26/26 - 0s - loss: 0.0030 - mean_squared_error: 0.0030 - val_loss: 0.0010 - val_mean_squared_error: 0.0010 - 150ms/epoch - 6ms/step\n",
      "Epoch 16/100\n",
      "26/26 - 0s - loss: 0.0031 - mean_squared_error: 0.0031 - val_loss: 0.0014 - val_mean_squared_error: 0.0014 - 148ms/epoch - 6ms/step\n",
      "Epoch 17/100\n",
      "26/26 - 0s - loss: 0.0026 - mean_squared_error: 0.0026 - val_loss: 0.0017 - val_mean_squared_error: 0.0017 - 173ms/epoch - 7ms/step\n",
      "Epoch 18/100\n",
      "26/26 - 0s - loss: 0.0025 - mean_squared_error: 0.0025 - val_loss: 0.0022 - val_mean_squared_error: 0.0022 - 141ms/epoch - 5ms/step\n",
      "Epoch 19/100\n",
      "26/26 - 0s - loss: 0.0029 - mean_squared_error: 0.0029 - val_loss: 0.0020 - val_mean_squared_error: 0.0020 - 165ms/epoch - 6ms/step\n",
      "Epoch 20/100\n",
      "26/26 - 0s - loss: 0.0029 - mean_squared_error: 0.0029 - val_loss: 0.0012 - val_mean_squared_error: 0.0012 - 156ms/epoch - 6ms/step\n",
      "Epoch 21/100\n",
      "26/26 - 0s - loss: 0.0021 - mean_squared_error: 0.0021 - val_loss: 0.0011 - val_mean_squared_error: 0.0011 - 139ms/epoch - 5ms/step\n",
      "Epoch 22/100\n",
      "26/26 - 0s - loss: 0.0027 - mean_squared_error: 0.0027 - val_loss: 0.0015 - val_mean_squared_error: 0.0015 - 158ms/epoch - 6ms/step\n",
      "Epoch 23/100\n",
      "26/26 - 0s - loss: 0.0024 - mean_squared_error: 0.0024 - val_loss: 9.9197e-04 - val_mean_squared_error: 9.9197e-04 - 157ms/epoch - 6ms/step\n",
      "Epoch 24/100\n",
      "26/26 - 0s - loss: 0.0023 - mean_squared_error: 0.0023 - val_loss: 0.0025 - val_mean_squared_error: 0.0025 - 140ms/epoch - 5ms/step\n",
      "Epoch 25/100\n",
      "26/26 - 0s - loss: 0.0025 - mean_squared_error: 0.0025 - val_loss: 0.0011 - val_mean_squared_error: 0.0011 - 148ms/epoch - 6ms/step\n",
      "Epoch 26/100\n",
      "26/26 - 0s - loss: 0.0025 - mean_squared_error: 0.0025 - val_loss: 0.0012 - val_mean_squared_error: 0.0012 - 142ms/epoch - 5ms/step\n",
      "Epoch 27/100\n",
      "26/26 - 0s - loss: 0.0024 - mean_squared_error: 0.0024 - val_loss: 0.0012 - val_mean_squared_error: 0.0012 - 144ms/epoch - 6ms/step\n",
      "Epoch 28/100\n",
      "26/26 - 0s - loss: 0.0022 - mean_squared_error: 0.0022 - val_loss: 0.0013 - val_mean_squared_error: 0.0013 - 137ms/epoch - 5ms/step\n",
      "Epoch 29/100\n",
      "26/26 - 0s - loss: 0.0018 - mean_squared_error: 0.0018 - val_loss: 0.0011 - val_mean_squared_error: 0.0011 - 156ms/epoch - 6ms/step\n",
      "Epoch 30/100\n",
      "26/26 - 0s - loss: 0.0020 - mean_squared_error: 0.0020 - val_loss: 0.0014 - val_mean_squared_error: 0.0014 - 156ms/epoch - 6ms/step\n",
      "Epoch 31/100\n",
      "26/26 - 0s - loss: 0.0021 - mean_squared_error: 0.0021 - val_loss: 0.0017 - val_mean_squared_error: 0.0017 - 151ms/epoch - 6ms/step\n",
      "Epoch 32/100\n",
      "26/26 - 0s - loss: 0.0024 - mean_squared_error: 0.0024 - val_loss: 0.0016 - val_mean_squared_error: 0.0016 - 167ms/epoch - 6ms/step\n",
      "Epoch 33/100\n",
      "26/26 - 0s - loss: 0.0020 - mean_squared_error: 0.0020 - val_loss: 0.0029 - val_mean_squared_error: 0.0029 - 159ms/epoch - 6ms/step\n",
      "Epoch 34/100\n",
      "26/26 - 0s - loss: 0.0023 - mean_squared_error: 0.0023 - val_loss: 9.9687e-04 - val_mean_squared_error: 9.9687e-04 - 153ms/epoch - 6ms/step\n",
      "Epoch 35/100\n",
      "26/26 - 0s - loss: 0.0021 - mean_squared_error: 0.0021 - val_loss: 9.7152e-04 - val_mean_squared_error: 9.7152e-04 - 160ms/epoch - 6ms/step\n",
      "Epoch 36/100\n",
      "26/26 - 0s - loss: 0.0018 - mean_squared_error: 0.0018 - val_loss: 0.0015 - val_mean_squared_error: 0.0015 - 163ms/epoch - 6ms/step\n",
      "Epoch 37/100\n",
      "26/26 - 0s - loss: 0.0022 - mean_squared_error: 0.0022 - val_loss: 0.0016 - val_mean_squared_error: 0.0016 - 143ms/epoch - 5ms/step\n",
      "Epoch 38/100\n",
      "26/26 - 0s - loss: 0.0020 - mean_squared_error: 0.0020 - val_loss: 0.0010 - val_mean_squared_error: 0.0010 - 154ms/epoch - 6ms/step\n",
      "Epoch 39/100\n",
      "26/26 - 0s - loss: 0.0020 - mean_squared_error: 0.0020 - val_loss: 0.0012 - val_mean_squared_error: 0.0012 - 139ms/epoch - 5ms/step\n",
      "Epoch 40/100\n",
      "26/26 - 0s - loss: 0.0020 - mean_squared_error: 0.0020 - val_loss: 0.0011 - val_mean_squared_error: 0.0011 - 140ms/epoch - 5ms/step\n",
      "Epoch 41/100\n",
      "26/26 - 0s - loss: 0.0018 - mean_squared_error: 0.0018 - val_loss: 0.0019 - val_mean_squared_error: 0.0019 - 142ms/epoch - 5ms/step\n",
      "Epoch 42/100\n",
      "26/26 - 0s - loss: 0.0019 - mean_squared_error: 0.0019 - val_loss: 0.0010 - val_mean_squared_error: 0.0010 - 142ms/epoch - 5ms/step\n",
      "Epoch 43/100\n",
      "26/26 - 0s - loss: 0.0018 - mean_squared_error: 0.0018 - val_loss: 0.0010 - val_mean_squared_error: 0.0010 - 161ms/epoch - 6ms/step\n",
      "Epoch 44/100\n",
      "26/26 - 0s - loss: 0.0018 - mean_squared_error: 0.0018 - val_loss: 9.9284e-04 - val_mean_squared_error: 9.9284e-04 - 152ms/epoch - 6ms/step\n",
      "Epoch 45/100\n",
      "26/26 - 0s - loss: 0.0017 - mean_squared_error: 0.0017 - val_loss: 0.0014 - val_mean_squared_error: 0.0014 - 159ms/epoch - 6ms/step\n",
      "Epoch 46/100\n",
      "26/26 - 0s - loss: 0.0018 - mean_squared_error: 0.0018 - val_loss: 0.0010 - val_mean_squared_error: 0.0010 - 162ms/epoch - 6ms/step\n",
      "Epoch 47/100\n",
      "26/26 - 0s - loss: 0.0019 - mean_squared_error: 0.0019 - val_loss: 0.0019 - val_mean_squared_error: 0.0019 - 136ms/epoch - 5ms/step\n",
      "Epoch 48/100\n",
      "26/26 - 0s - loss: 0.0019 - mean_squared_error: 0.0019 - val_loss: 0.0010 - val_mean_squared_error: 0.0010 - 157ms/epoch - 6ms/step\n",
      "Epoch 49/100\n",
      "26/26 - 0s - loss: 0.0018 - mean_squared_error: 0.0018 - val_loss: 0.0010 - val_mean_squared_error: 0.0010 - 135ms/epoch - 5ms/step\n",
      "Epoch 50/100\n",
      "26/26 - 0s - loss: 0.0018 - mean_squared_error: 0.0018 - val_loss: 9.8034e-04 - val_mean_squared_error: 9.8034e-04 - 149ms/epoch - 6ms/step\n",
      "Epoch 51/100\n",
      "26/26 - 0s - loss: 0.0017 - mean_squared_error: 0.0017 - val_loss: 0.0036 - val_mean_squared_error: 0.0036 - 157ms/epoch - 6ms/step\n",
      "Epoch 52/100\n",
      "26/26 - 0s - loss: 0.0021 - mean_squared_error: 0.0021 - val_loss: 9.8340e-04 - val_mean_squared_error: 9.8340e-04 - 152ms/epoch - 6ms/step\n",
      "Epoch 53/100\n",
      "26/26 - 0s - loss: 0.0017 - mean_squared_error: 0.0017 - val_loss: 0.0010 - val_mean_squared_error: 0.0010 - 148ms/epoch - 6ms/step\n",
      "Epoch 54/100\n",
      "26/26 - 0s - loss: 0.0017 - mean_squared_error: 0.0017 - val_loss: 0.0010 - val_mean_squared_error: 0.0010 - 137ms/epoch - 5ms/step\n",
      "Epoch 55/100\n",
      "26/26 - 0s - loss: 0.0018 - mean_squared_error: 0.0018 - val_loss: 0.0015 - val_mean_squared_error: 0.0015 - 189ms/epoch - 7ms/step\n",
      "Epoch 56/100\n",
      "26/26 - 0s - loss: 0.0022 - mean_squared_error: 0.0022 - val_loss: 0.0028 - val_mean_squared_error: 0.0028 - 140ms/epoch - 5ms/step\n",
      "Epoch 57/100\n",
      "26/26 - 0s - loss: 0.0019 - mean_squared_error: 0.0019 - val_loss: 0.0011 - val_mean_squared_error: 0.0011 - 148ms/epoch - 6ms/step\n",
      "Epoch 58/100\n",
      "26/26 - 0s - loss: 0.0017 - mean_squared_error: 0.0017 - val_loss: 9.8640e-04 - val_mean_squared_error: 9.8640e-04 - 164ms/epoch - 6ms/step\n",
      "Epoch 59/100\n",
      "26/26 - 0s - loss: 0.0017 - mean_squared_error: 0.0017 - val_loss: 0.0013 - val_mean_squared_error: 0.0013 - 150ms/epoch - 6ms/step\n",
      "Epoch 60/100\n",
      "26/26 - 0s - loss: 0.0016 - mean_squared_error: 0.0016 - val_loss: 0.0017 - val_mean_squared_error: 0.0017 - 165ms/epoch - 6ms/step\n",
      "Epoch 61/100\n",
      "26/26 - 0s - loss: 0.0016 - mean_squared_error: 0.0016 - val_loss: 0.0010 - val_mean_squared_error: 0.0010 - 145ms/epoch - 6ms/step\n",
      "Epoch 62/100\n",
      "26/26 - 0s - loss: 0.0016 - mean_squared_error: 0.0016 - val_loss: 0.0016 - val_mean_squared_error: 0.0016 - 158ms/epoch - 6ms/step\n",
      "Epoch 63/100\n",
      "26/26 - 0s - loss: 0.0018 - mean_squared_error: 0.0018 - val_loss: 0.0011 - val_mean_squared_error: 0.0011 - 139ms/epoch - 5ms/step\n",
      "Epoch 64/100\n",
      "26/26 - 0s - loss: 0.0015 - mean_squared_error: 0.0015 - val_loss: 0.0017 - val_mean_squared_error: 0.0017 - 150ms/epoch - 6ms/step\n",
      "Epoch 65/100\n",
      "26/26 - 0s - loss: 0.0015 - mean_squared_error: 0.0015 - val_loss: 9.9439e-04 - val_mean_squared_error: 9.9439e-04 - 152ms/epoch - 6ms/step\n",
      "Epoch 66/100\n",
      "26/26 - 0s - loss: 0.0015 - mean_squared_error: 0.0015 - val_loss: 0.0012 - val_mean_squared_error: 0.0012 - 152ms/epoch - 6ms/step\n",
      "Epoch 67/100\n",
      "26/26 - 0s - loss: 0.0015 - mean_squared_error: 0.0015 - val_loss: 0.0010 - val_mean_squared_error: 0.0010 - 151ms/epoch - 6ms/step\n",
      "Epoch 68/100\n",
      "26/26 - 0s - loss: 0.0015 - mean_squared_error: 0.0015 - val_loss: 0.0017 - val_mean_squared_error: 0.0017 - 148ms/epoch - 6ms/step\n",
      "Epoch 69/100\n",
      "26/26 - 0s - loss: 0.0014 - mean_squared_error: 0.0014 - val_loss: 9.6582e-04 - val_mean_squared_error: 9.6582e-04 - 227ms/epoch - 9ms/step\n",
      "Epoch 70/100\n",
      "26/26 - 0s - loss: 0.0014 - mean_squared_error: 0.0014 - val_loss: 9.6828e-04 - val_mean_squared_error: 9.6828e-04 - 280ms/epoch - 11ms/step\n",
      "Epoch 71/100\n",
      "26/26 - 0s - loss: 0.0015 - mean_squared_error: 0.0015 - val_loss: 0.0010 - val_mean_squared_error: 0.0010 - 283ms/epoch - 11ms/step\n",
      "Epoch 72/100\n",
      "26/26 - 0s - loss: 0.0014 - mean_squared_error: 0.0014 - val_loss: 0.0016 - val_mean_squared_error: 0.0016 - 219ms/epoch - 8ms/step\n",
      "Epoch 73/100\n",
      "26/26 - 0s - loss: 0.0014 - mean_squared_error: 0.0014 - val_loss: 9.6580e-04 - val_mean_squared_error: 9.6580e-04 - 276ms/epoch - 11ms/step\n",
      "Epoch 74/100\n",
      "26/26 - 0s - loss: 0.0016 - mean_squared_error: 0.0016 - val_loss: 0.0010 - val_mean_squared_error: 0.0010 - 281ms/epoch - 11ms/step\n",
      "Epoch 75/100\n",
      "26/26 - 0s - loss: 0.0014 - mean_squared_error: 0.0014 - val_loss: 9.7227e-04 - val_mean_squared_error: 9.7227e-04 - 242ms/epoch - 9ms/step\n",
      "Epoch 76/100\n",
      "26/26 - 0s - loss: 0.0014 - mean_squared_error: 0.0014 - val_loss: 0.0016 - val_mean_squared_error: 0.0016 - 237ms/epoch - 9ms/step\n",
      "Epoch 77/100\n",
      "26/26 - 0s - loss: 0.0016 - mean_squared_error: 0.0016 - val_loss: 0.0019 - val_mean_squared_error: 0.0019 - 310ms/epoch - 12ms/step\n",
      "Epoch 78/100\n",
      "26/26 - 0s - loss: 0.0014 - mean_squared_error: 0.0014 - val_loss: 0.0012 - val_mean_squared_error: 0.0012 - 305ms/epoch - 12ms/step\n",
      "Epoch 79/100\n",
      "26/26 - 0s - loss: 0.0016 - mean_squared_error: 0.0016 - val_loss: 9.9313e-04 - val_mean_squared_error: 9.9313e-04 - 319ms/epoch - 12ms/step\n",
      "Epoch 80/100\n",
      "26/26 - 0s - loss: 0.0013 - mean_squared_error: 0.0013 - val_loss: 0.0013 - val_mean_squared_error: 0.0013 - 350ms/epoch - 13ms/step\n",
      "Epoch 81/100\n",
      "26/26 - 0s - loss: 0.0014 - mean_squared_error: 0.0014 - val_loss: 0.0011 - val_mean_squared_error: 0.0011 - 312ms/epoch - 12ms/step\n",
      "Epoch 82/100\n",
      "26/26 - 0s - loss: 0.0014 - mean_squared_error: 0.0014 - val_loss: 9.8893e-04 - val_mean_squared_error: 9.8893e-04 - 281ms/epoch - 11ms/step\n",
      "Epoch 83/100\n",
      "26/26 - 0s - loss: 0.0014 - mean_squared_error: 0.0014 - val_loss: 0.0011 - val_mean_squared_error: 0.0011 - 267ms/epoch - 10ms/step\n",
      "Epoch 84/100\n",
      "26/26 - 0s - loss: 0.0017 - mean_squared_error: 0.0017 - val_loss: 0.0012 - val_mean_squared_error: 0.0012 - 278ms/epoch - 11ms/step\n",
      "Epoch 85/100\n",
      "26/26 - 0s - loss: 0.0015 - mean_squared_error: 0.0015 - val_loss: 0.0013 - val_mean_squared_error: 0.0013 - 268ms/epoch - 10ms/step\n",
      "Epoch 86/100\n",
      "26/26 - 0s - loss: 0.0013 - mean_squared_error: 0.0013 - val_loss: 0.0017 - val_mean_squared_error: 0.0017 - 294ms/epoch - 11ms/step\n",
      "Epoch 87/100\n",
      "26/26 - 0s - loss: 0.0015 - mean_squared_error: 0.0015 - val_loss: 0.0012 - val_mean_squared_error: 0.0012 - 286ms/epoch - 11ms/step\n",
      "Epoch 88/100\n",
      "26/26 - 0s - loss: 0.0015 - mean_squared_error: 0.0015 - val_loss: 0.0011 - val_mean_squared_error: 0.0011 - 303ms/epoch - 12ms/step\n",
      "Epoch 89/100\n",
      "26/26 - 0s - loss: 0.0013 - mean_squared_error: 0.0013 - val_loss: 9.7794e-04 - val_mean_squared_error: 9.7794e-04 - 287ms/epoch - 11ms/step\n",
      "Epoch 90/100\n",
      "26/26 - 0s - loss: 0.0014 - mean_squared_error: 0.0014 - val_loss: 0.0010 - val_mean_squared_error: 0.0010 - 272ms/epoch - 10ms/step\n",
      "Epoch 91/100\n",
      "26/26 - 0s - loss: 0.0011 - mean_squared_error: 0.0011 - val_loss: 0.0012 - val_mean_squared_error: 0.0012 - 329ms/epoch - 13ms/step\n",
      "Epoch 92/100\n",
      "26/26 - 0s - loss: 0.0013 - mean_squared_error: 0.0013 - val_loss: 9.8011e-04 - val_mean_squared_error: 9.8011e-04 - 341ms/epoch - 13ms/step\n",
      "Epoch 93/100\n",
      "26/26 - 0s - loss: 0.0014 - mean_squared_error: 0.0014 - val_loss: 0.0014 - val_mean_squared_error: 0.0014 - 299ms/epoch - 11ms/step\n",
      "Epoch 94/100\n",
      "26/26 - 0s - loss: 0.0014 - mean_squared_error: 0.0014 - val_loss: 0.0017 - val_mean_squared_error: 0.0017 - 173ms/epoch - 7ms/step\n",
      "Epoch 95/100\n",
      "26/26 - 0s - loss: 0.0015 - mean_squared_error: 0.0015 - val_loss: 9.9385e-04 - val_mean_squared_error: 9.9385e-04 - 144ms/epoch - 6ms/step\n",
      "Epoch 96/100\n",
      "26/26 - 0s - loss: 0.0014 - mean_squared_error: 0.0014 - val_loss: 0.0017 - val_mean_squared_error: 0.0017 - 145ms/epoch - 6ms/step\n",
      "Epoch 97/100\n",
      "26/26 - 0s - loss: 0.0015 - mean_squared_error: 0.0015 - val_loss: 0.0025 - val_mean_squared_error: 0.0025 - 153ms/epoch - 6ms/step\n",
      "Epoch 98/100\n",
      "26/26 - 0s - loss: 0.0014 - mean_squared_error: 0.0014 - val_loss: 0.0013 - val_mean_squared_error: 0.0013 - 151ms/epoch - 6ms/step\n",
      "Epoch 99/100\n",
      "26/26 - 0s - loss: 0.0015 - mean_squared_error: 0.0015 - val_loss: 9.7705e-04 - val_mean_squared_error: 9.7705e-04 - 147ms/epoch - 6ms/step\n",
      "Epoch 100/100\n",
      "26/26 - 0s - loss: 0.0013 - mean_squared_error: 0.0013 - val_loss: 0.0017 - val_mean_squared_error: 0.0017 - 144ms/epoch - 6ms/step\n"
     ]
    }
   ],
   "source": [
    "model = Sequential()\n",
    "model.add(Conv1D(filters=256, kernel_size=1, input_shape=(X_train.shape[1],1)))\n",
    "model.add(Dropout(0.4))\n",
    "model.add(Flatten())\n",
    "model.add(Dropout(0.4))\n",
    "model.add(Dense(64))\n",
    "model.add(Dropout(0.4))\n",
    "model.add(Dense(1))\n",
    "model.compile(loss='mse', optimizer='adam',metrics = ['mean_squared_error'])\n",
    "history = model.fit(X_train, y_train,epochs=100, verbose=2, validation_data = (X_val,Y_val))"
   ]
  },
  {
   "cell_type": "code",
   "execution_count": 94,
   "metadata": {
    "colab": {
     "base_uri": "https://localhost:8080/"
    },
    "executionInfo": {
     "elapsed": 60,
     "status": "ok",
     "timestamp": 1677792766170,
     "user": {
      "displayName": "Adekunjo Moshood",
      "userId": "07268946589538442356"
     },
     "user_tz": -60
    },
    "id": "xPVjJZbUEUa3",
    "outputId": "1675b325-8ffd-4a85-dca5-68d2cdbc0881"
   },
   "outputs": [
    {
     "name": "stdout",
     "output_type": "stream",
     "text": [
      "Model: \"sequential_16\"\n",
      "_________________________________________________________________\n",
      " Layer (type)                Output Shape              Param #   \n",
      "=================================================================\n",
      " conv1d_14 (Conv1D)          (None, 2, 256)            512       \n",
      "                                                                 \n",
      " dropout_42 (Dropout)        (None, 2, 256)            0         \n",
      "                                                                 \n",
      " flatten_1 (Flatten)         (None, 512)               0         \n",
      "                                                                 \n",
      " dropout_43 (Dropout)        (None, 512)               0         \n",
      "                                                                 \n",
      " dense_36 (Dense)            (None, 64)                32832     \n",
      "                                                                 \n",
      " dropout_44 (Dropout)        (None, 64)                0         \n",
      "                                                                 \n",
      " dense_37 (Dense)            (None, 1)                 65        \n",
      "                                                                 \n",
      "=================================================================\n",
      "Total params: 33,409\n",
      "Trainable params: 33,409\n",
      "Non-trainable params: 0\n",
      "_________________________________________________________________\n",
      "None\n"
     ]
    }
   ],
   "source": [
    "\n",
    "print(model.summary())"
   ]
  },
  {
   "cell_type": "code",
   "execution_count": 96,
   "metadata": {
    "colab": {
     "base_uri": "https://localhost:8080/"
    },
    "executionInfo": {
     "elapsed": 39,
     "status": "ok",
     "timestamp": 1677792766869,
     "user": {
      "displayName": "Adekunjo Moshood",
      "userId": "07268946589538442356"
     },
     "user_tz": -60
    },
    "id": "5YR3Ns2GG_5E",
    "outputId": "02876d77-ef44-48a8-94f5-762cef3ede0a"
   },
   "outputs": [
    {
     "name": "stdout",
     "output_type": "stream",
     "text": [
      "26/26 [==============================] - 0s 2ms/step\n",
      "7/7 [==============================] - 0s 3ms/step\n",
      "Train rmse: 0.027113860468140297\n",
      "Validation mse: 0.0016919329774275464\n",
      "Validation rmse: 0.04113311290709161\n"
     ]
    }
   ],
   "source": [
    "\n",
    "cnn_train_pred = model.predict(X_train)\n",
    "cnn_valid_pred = model.predict(X_val)\n",
    "print('Train rmse:', np.sqrt(mean_squared_error(y_train, cnn_train_pred)))\n",
    "print('Validation mse:', mean_squared_error(Y_val, cnn_valid_pred))\n",
    "print('Validation rmse:', np.sqrt(mean_squared_error(Y_val, cnn_valid_pred)))"
   ]
  }
 ],
 "metadata": {
  "colab": {
   "authorship_tag": "ABX9TyOm01IMX7YQlIVLL/hZf4Ke",
   "provenance": []
  },
  "kernelspec": {
   "display_name": "Python 3 (ipykernel)",
   "language": "python",
   "name": "python3"
  },
  "language_info": {
   "codemirror_mode": {
    "name": "ipython",
    "version": 3
   },
   "file_extension": ".py",
   "mimetype": "text/x-python",
   "name": "python",
   "nbconvert_exporter": "python",
   "pygments_lexer": "ipython3",
   "version": "3.9.12"
  }
 },
 "nbformat": 4,
 "nbformat_minor": 1
}
